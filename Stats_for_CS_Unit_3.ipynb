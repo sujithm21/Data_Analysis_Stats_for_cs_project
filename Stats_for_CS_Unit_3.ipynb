{
 "cells": [
  {
   "cell_type": "markdown",
   "metadata": {
    "id": "omIsLaTF2wk4"
   },
   "source": [
    "## Statistics Case Study - Unit III\n",
    "\n",
    "Index :\n",
    "\n",
    "\n",
    "1.   Runs Test\n",
    "2.   Sign Test\n",
    "3.   Wilcoxon Rank Sum Test\n"
   ]
  },
  {
   "cell_type": "markdown",
   "metadata": {
    "id": "EJlm6-G03vok"
   },
   "source": [
    "### Runs Test :\n",
    "\n",
    "H0 (Null Hypothesis) : The sequence of data points of sample from 'Life expectancy' is random\n",
    "\n",
    "H1 (Alternate Hypothesis) : The sequence of data points of sample from 'Life expectancy' is not random\n"
   ]
  },
  {
   "cell_type": "markdown",
   "metadata": {
    "id": "0HBFqPMa2z9j"
   },
   "source": [
    "Importing the necessary python modules"
   ]
  },
  {
   "cell_type": "code",
   "execution_count": 1,
   "metadata": {
    "id": "Yl-PrWkn2d6D"
   },
   "outputs": [],
   "source": [
    "import pandas as pd\n",
    "import numpy as np\n",
    "from scipy import stats as ss\n",
    "import statistics as st\n",
    "import math\n",
    "from sklearn.preprocessing import StandardScaler"
   ]
  },
  {
   "cell_type": "code",
   "execution_count": 2,
   "metadata": {
    "id": "7ZB6uEpX22uI"
   },
   "outputs": [
    {
     "data": {
      "text/html": [
       "<div>\n",
       "<style scoped>\n",
       "    .dataframe tbody tr th:only-of-type {\n",
       "        vertical-align: middle;\n",
       "    }\n",
       "\n",
       "    .dataframe tbody tr th {\n",
       "        vertical-align: top;\n",
       "    }\n",
       "\n",
       "    .dataframe thead th {\n",
       "        text-align: right;\n",
       "    }\n",
       "</style>\n",
       "<table border=\"1\" class=\"dataframe\">\n",
       "  <thead>\n",
       "    <tr style=\"text-align: right;\">\n",
       "      <th></th>\n",
       "      <th>Country</th>\n",
       "      <th>Agricultural Land( %)</th>\n",
       "      <th>Land Area(Km2)</th>\n",
       "      <th>Armed Forces size</th>\n",
       "      <th>Birth Rate</th>\n",
       "      <th>Capital</th>\n",
       "      <th>Co2-Emissions</th>\n",
       "      <th>CPI</th>\n",
       "      <th>Forested Area (%)</th>\n",
       "      <th>GDP</th>\n",
       "      <th>Life expectancy</th>\n",
       "      <th>Minimum wage</th>\n",
       "      <th>Unemployment rate</th>\n",
       "    </tr>\n",
       "  </thead>\n",
       "  <tbody>\n",
       "    <tr>\n",
       "      <th>0</th>\n",
       "      <td>Albania</td>\n",
       "      <td>58.10%</td>\n",
       "      <td>6,52,230</td>\n",
       "      <td>3,23,000</td>\n",
       "      <td>32.49</td>\n",
       "      <td>Kabul</td>\n",
       "      <td>8,672</td>\n",
       "      <td>149.90</td>\n",
       "      <td>2.10%</td>\n",
       "      <td>$19,101,353,833</td>\n",
       "      <td>64.5</td>\n",
       "      <td>$0.43</td>\n",
       "      <td>11.12%</td>\n",
       "    </tr>\n",
       "    <tr>\n",
       "      <th>1</th>\n",
       "      <td>Algeria</td>\n",
       "      <td>43.10%</td>\n",
       "      <td>28,748</td>\n",
       "      <td>9,000</td>\n",
       "      <td>11.78</td>\n",
       "      <td>Tirana</td>\n",
       "      <td>4,536</td>\n",
       "      <td>119.05</td>\n",
       "      <td>28.10%</td>\n",
       "      <td>$15,278,077,447</td>\n",
       "      <td>78.5</td>\n",
       "      <td>$1.12</td>\n",
       "      <td>12.33%</td>\n",
       "    </tr>\n",
       "    <tr>\n",
       "      <th>2</th>\n",
       "      <td>Andorra</td>\n",
       "      <td>17.40%</td>\n",
       "      <td>23,81,741</td>\n",
       "      <td>3,17,000</td>\n",
       "      <td>24.28</td>\n",
       "      <td>Algiers</td>\n",
       "      <td>1,50,006</td>\n",
       "      <td>151.36</td>\n",
       "      <td>0.80%</td>\n",
       "      <td>$169,988,236,398</td>\n",
       "      <td>76.7</td>\n",
       "      <td>$0.95</td>\n",
       "      <td>11.70%</td>\n",
       "    </tr>\n",
       "    <tr>\n",
       "      <th>3</th>\n",
       "      <td>Antigua and Barbuda</td>\n",
       "      <td>47.50%</td>\n",
       "      <td>12,46,700</td>\n",
       "      <td>1,17,000</td>\n",
       "      <td>40.73</td>\n",
       "      <td>Luanda</td>\n",
       "      <td>34,693</td>\n",
       "      <td>261.73</td>\n",
       "      <td>46.30%</td>\n",
       "      <td>$94,635,415,870</td>\n",
       "      <td>60.8</td>\n",
       "      <td>$0.71</td>\n",
       "      <td>6.89%</td>\n",
       "    </tr>\n",
       "    <tr>\n",
       "      <th>4</th>\n",
       "      <td>Armenia</td>\n",
       "      <td>54.30%</td>\n",
       "      <td>27,80,400</td>\n",
       "      <td>1,05,000</td>\n",
       "      <td>17.02</td>\n",
       "      <td>Buenos Aires</td>\n",
       "      <td>2,01,348</td>\n",
       "      <td>232.75</td>\n",
       "      <td>9.80%</td>\n",
       "      <td>$449,663,446,954</td>\n",
       "      <td>76.5</td>\n",
       "      <td>$3.35</td>\n",
       "      <td>9.79%</td>\n",
       "    </tr>\n",
       "    <tr>\n",
       "      <th>...</th>\n",
       "      <td>...</td>\n",
       "      <td>...</td>\n",
       "      <td>...</td>\n",
       "      <td>...</td>\n",
       "      <td>...</td>\n",
       "      <td>...</td>\n",
       "      <td>...</td>\n",
       "      <td>...</td>\n",
       "      <td>...</td>\n",
       "      <td>...</td>\n",
       "      <td>...</td>\n",
       "      <td>...</td>\n",
       "      <td>...</td>\n",
       "    </tr>\n",
       "    <tr>\n",
       "      <th>79</th>\n",
       "      <td>Marshall Islands</td>\n",
       "      <td>32.40%</td>\n",
       "      <td>316</td>\n",
       "      <td>2,000</td>\n",
       "      <td>9.20</td>\n",
       "      <td>Valletta</td>\n",
       "      <td>1,342</td>\n",
       "      <td>113.45</td>\n",
       "      <td>1.10%</td>\n",
       "      <td>$14,786,156,563</td>\n",
       "      <td>82.3</td>\n",
       "      <td>$5.07</td>\n",
       "      <td>3.47%</td>\n",
       "    </tr>\n",
       "    <tr>\n",
       "      <th>80</th>\n",
       "      <td>Mauritius</td>\n",
       "      <td>38.50%</td>\n",
       "      <td>10,30,700</td>\n",
       "      <td>21,000</td>\n",
       "      <td>33.69</td>\n",
       "      <td>Nouakchott</td>\n",
       "      <td>2,739</td>\n",
       "      <td>135.02</td>\n",
       "      <td>0.20%</td>\n",
       "      <td>$7,593,752,450</td>\n",
       "      <td>64.7</td>\n",
       "      <td>$0.53</td>\n",
       "      <td>9.55%</td>\n",
       "    </tr>\n",
       "    <tr>\n",
       "      <th>81</th>\n",
       "      <td>Mexico</td>\n",
       "      <td>42.40%</td>\n",
       "      <td>2,040</td>\n",
       "      <td>3,000</td>\n",
       "      <td>10.20</td>\n",
       "      <td>Port Louis</td>\n",
       "      <td>4,349</td>\n",
       "      <td>129.91</td>\n",
       "      <td>19.00%</td>\n",
       "      <td>$14,180,444,557</td>\n",
       "      <td>74.4</td>\n",
       "      <td>$0.38</td>\n",
       "      <td>6.67%</td>\n",
       "    </tr>\n",
       "    <tr>\n",
       "      <th>82</th>\n",
       "      <td>Federated States of Micronesia</td>\n",
       "      <td>54.60%</td>\n",
       "      <td>19,64,375</td>\n",
       "      <td>3,36,000</td>\n",
       "      <td>17.60</td>\n",
       "      <td>Mexico City</td>\n",
       "      <td>4,86,406</td>\n",
       "      <td>141.54</td>\n",
       "      <td>33.90%</td>\n",
       "      <td>$1,258,286,717,125</td>\n",
       "      <td>75.0</td>\n",
       "      <td>$0.49</td>\n",
       "      <td>3.42%</td>\n",
       "    </tr>\n",
       "    <tr>\n",
       "      <th>83</th>\n",
       "      <td>Monaco</td>\n",
       "      <td>74.20%</td>\n",
       "      <td>33,851</td>\n",
       "      <td>7,000</td>\n",
       "      <td>10.10</td>\n",
       "      <td>Chi����</td>\n",
       "      <td>5,115</td>\n",
       "      <td>166.20</td>\n",
       "      <td>12.60%</td>\n",
       "      <td>$11,955,435,457</td>\n",
       "      <td>71.8</td>\n",
       "      <td>$0.31</td>\n",
       "      <td>5.47%</td>\n",
       "    </tr>\n",
       "  </tbody>\n",
       "</table>\n",
       "<p>84 rows × 13 columns</p>\n",
       "</div>"
      ],
      "text/plain": [
       "                           Country Agricultural Land( %) Land Area(Km2)  \\\n",
       "0                          Albania                58.10%       6,52,230   \n",
       "1                          Algeria                43.10%         28,748   \n",
       "2                          Andorra                17.40%      23,81,741   \n",
       "3              Antigua and Barbuda                47.50%      12,46,700   \n",
       "4                          Armenia                54.30%      27,80,400   \n",
       "..                             ...                   ...            ...   \n",
       "79                Marshall Islands                32.40%            316   \n",
       "80                       Mauritius                38.50%      10,30,700   \n",
       "81                          Mexico                42.40%          2,040   \n",
       "82  Federated States of Micronesia                54.60%      19,64,375   \n",
       "83                          Monaco                74.20%         33,851   \n",
       "\n",
       "   Armed Forces size  Birth Rate       Capital Co2-Emissions     CPI  \\\n",
       "0           3,23,000       32.49         Kabul         8,672  149.90   \n",
       "1              9,000       11.78        Tirana         4,536  119.05   \n",
       "2           3,17,000       24.28       Algiers      1,50,006  151.36   \n",
       "3           1,17,000       40.73        Luanda        34,693  261.73   \n",
       "4           1,05,000       17.02  Buenos Aires      2,01,348  232.75   \n",
       "..               ...         ...           ...           ...     ...   \n",
       "79             2,000        9.20      Valletta         1,342  113.45   \n",
       "80            21,000       33.69    Nouakchott         2,739  135.02   \n",
       "81             3,000       10.20    Port Louis         4,349  129.91   \n",
       "82          3,36,000       17.60   Mexico City      4,86,406  141.54   \n",
       "83             7,000       10.10       Chi����         5,115  166.20   \n",
       "\n",
       "   Forested Area (%)                  GDP  Life expectancy Minimum wage  \\\n",
       "0              2.10%     $19,101,353,833              64.5       $0.43    \n",
       "1             28.10%     $15,278,077,447              78.5       $1.12    \n",
       "2              0.80%    $169,988,236,398              76.7       $0.95    \n",
       "3             46.30%     $94,635,415,870              60.8       $0.71    \n",
       "4              9.80%    $449,663,446,954              76.5       $3.35    \n",
       "..               ...                  ...              ...          ...   \n",
       "79             1.10%     $14,786,156,563              82.3       $5.07    \n",
       "80             0.20%      $7,593,752,450              64.7       $0.53    \n",
       "81            19.00%     $14,180,444,557              74.4       $0.38    \n",
       "82            33.90%  $1,258,286,717,125              75.0       $0.49    \n",
       "83            12.60%     $11,955,435,457              71.8       $0.31    \n",
       "\n",
       "   Unemployment rate  \n",
       "0             11.12%  \n",
       "1             12.33%  \n",
       "2             11.70%  \n",
       "3              6.89%  \n",
       "4              9.79%  \n",
       "..               ...  \n",
       "79             3.47%  \n",
       "80             9.55%  \n",
       "81             6.67%  \n",
       "82             3.42%  \n",
       "83             5.47%  \n",
       "\n",
       "[84 rows x 13 columns]"
      ]
     },
     "execution_count": 2,
     "metadata": {},
     "output_type": "execute_result"
    }
   ],
   "source": [
    "file_path = 'world-data-2023-1.csv'\n",
    "dataset = pd.read_csv(file_path)\n",
    "dataset"
   ]
  },
  {
   "cell_type": "code",
   "execution_count": 3,
   "metadata": {
    "colab": {
     "base_uri": "https://localhost:8080/"
    },
    "id": "AMXEvywO5ABt",
    "outputId": "f9b94cb4-6414-49c6-d398-db1fd21c0077"
   },
   "outputs": [
    {
     "data": {
      "text/plain": [
       "array([58.9, 64.3, 76.8, 74.4, 80.9, 64.7, 72.3, 71.8, 61.2, 74.1, 52.8,\n",
       "       79. , 71.4, 75.7, 74.7, 60.8, 76.5, 61.7, 63.8, 73.2, 71.5, 75. ,\n",
       "       63.7, 73.8, 77.3])"
      ]
     },
     "execution_count": 3,
     "metadata": {},
     "output_type": "execute_result"
    }
   ],
   "source": [
    "np.random.seed(15)\n",
    "run_sample = np.random.choice(dataset['Life expectancy'], size = 25, replace = False)\n",
    "run_sample"
   ]
  },
  {
   "cell_type": "markdown",
   "metadata": {
    "id": "G92t1q2G5vHD"
   },
   "source": [
    "Defining the Runs Test function!!"
   ]
  },
  {
   "cell_type": "code",
   "execution_count": 4,
   "metadata": {
    "id": "N7vBHAlt5A_G"
   },
   "outputs": [],
   "source": [
    "def runs(sample):\n",
    "    median = np.median(sample)\n",
    "    print(\"Median of the sample : \",  median)\n",
    "\n",
    "    binary_data = []\n",
    "    for num in sample:\n",
    "        if num > median:\n",
    "            binary_data.append(1)\n",
    "        elif num < median:\n",
    "            binary_data.append(0)\n",
    "\n",
    "    binary_data = np.array(binary_data)\n",
    "\n",
    "    print('Binary Data : ', binary_data)\n",
    "\n",
    "    one_count, zero_count = np.sum(binary_data == 1), np.sum(binary_data == 0)\n",
    "    print('n1 = ', one_count)\n",
    "    print('n2 = ', zero_count)\n",
    "\n",
    "    rank = 1\n",
    "    for i in range(1, len(binary_data)):\n",
    "        if binary_data[i] != binary_data[i-1]:\n",
    "            rank += 1\n",
    "\n",
    "    return rank"
   ]
  },
  {
   "cell_type": "code",
   "execution_count": 5,
   "metadata": {
    "colab": {
     "base_uri": "https://localhost:8080/"
    },
    "id": "HyF2r7Lp5--b",
    "outputId": "51d0c5fc-b44e-4fe8-e9f6-1ce627612b07"
   },
   "outputs": [
    {
     "name": "stdout",
     "output_type": "stream",
     "text": [
      "Median of the sample :  72.3\n",
      "Binary Data :  [0 0 1 1 1 0 0 0 1 0 1 0 1 1 0 1 0 0 1 0 1 0 1 1]\n",
      "n1 =  12\n",
      "n2 =  12\n",
      "No of runs =  16\n",
      "Accept H0\n"
     ]
    }
   ],
   "source": [
    "# For n1 = 12 and n2 = 12, the critical rank range:(7, 19)\n",
    "c_lower, c_upper = 7, 19\n",
    "rank = runs(run_sample)\n",
    "print('No of runs = ', rank)\n",
    "print('Accept H0') if c_lower <= rank <= c_upper else ('Reject H0, Accepting H1')"
   ]
  },
  {
   "cell_type": "markdown",
   "metadata": {
    "id": "uk_aw5El84iW"
   },
   "source": [
    "### Sign Test :\n",
    "\n",
    "H0 (Null Hypothesis) : The median of the sample is equal to the specified value\n",
    "\n",
    "H1 (Alternate Hypothesis) : The median of the sample is not equal to the specified value\n"
   ]
  },
  {
   "cell_type": "markdown",
   "metadata": {
    "id": "YGnrLLkZAZnH"
   },
   "source": [
    "Making some changes to the dataset to acquire education (in years)."
   ]
  },
  {
   "cell_type": "code",
   "execution_count": 6,
   "metadata": {
    "colab": {
     "base_uri": "https://localhost:8080/"
    },
    "id": "o6-OaPT26cSq",
    "outputId": "7c7809af-1db8-48ae-f73e-334e4180ea34"
   },
   "outputs": [
    {
     "data": {
      "text/plain": [
       "0     149.90\n",
       "1     119.05\n",
       "2     151.36\n",
       "3     261.73\n",
       "4     232.75\n",
       "       ...  \n",
       "79    113.45\n",
       "80    135.02\n",
       "81    129.91\n",
       "82    141.54\n",
       "83    166.20\n",
       "Name: CPI, Length: 84, dtype: float64"
      ]
     },
     "execution_count": 6,
     "metadata": {},
     "output_type": "execute_result"
    }
   ],
   "source": [
    "import pandas as pd\n",
    "import numpy as np\n",
    "\n",
    "df = pd.read_csv(file_path)\n",
    "\n",
    "cpi = df['CPI']\n",
    "\n",
    "cpi\n"
   ]
  },
  {
   "cell_type": "markdown",
   "metadata": {
    "id": "q0weUxvaAmEE"
   },
   "source": [
    "Getting the random sampling done!!"
   ]
  },
  {
   "cell_type": "code",
   "execution_count": 7,
   "metadata": {
    "colab": {
     "base_uri": "https://localhost:8080/"
    },
    "id": "aAAOmsFZAohL",
    "outputId": "6cfc3a77-12be-40bc-f8f5-99b4aa2d9899"
   },
   "outputs": [
    {
     "data": {
      "text/plain": [
       "array([108.73, 124.74, 124.14, 162.47, 112.85, 135.02, 179.68, 166.2 ,\n",
       "       106.58, 142.92, 186.86, 116.48, 155.68, 167.4 , 116.86, 261.73,\n",
       "       550.93, 172.73, 418.34, 182.75, 167.18, 141.54, 179.29, 116.22,\n",
       "       104.9 ])"
      ]
     },
     "execution_count": 7,
     "metadata": {},
     "output_type": "execute_result"
    }
   ],
   "source": [
    "np.random.seed(15)\n",
    "sign_sample = np.random.choice(cpi, size = 25, replace = False)\n",
    "sign_sample"
   ]
  },
  {
   "cell_type": "markdown",
   "metadata": {
    "id": "poHUuEqgCyD_"
   },
   "source": [
    "Defining sings test function!!"
   ]
  },
  {
   "cell_type": "code",
   "execution_count": 8,
   "metadata": {
    "id": "8jXkOxLpAwG7"
   },
   "outputs": [],
   "source": [
    "def sign(sample):\n",
    "    median = np.median(sample)\n",
    "    print(\"Median of the sample:\",  median)\n",
    "\n",
    "    positive, negative, zero = np.sum(sample > median), np.sum(sample < median), np.sum(sample == median)\n",
    "    print('No of Positives : ', positive)\n",
    "    print('No of Negatives : ', negative)\n",
    "    print('No of Zeroes : ', zero)\n",
    "\n",
    "    sample_count = positive + negative - zero\n",
    "\n",
    "    sign_calculated = min(positive, negative)\n",
    "\n",
    "    print(\"Sample Size : \", sample_count)\n",
    "\n",
    "    return sign_calculated"
   ]
  },
  {
   "cell_type": "markdown",
   "metadata": {
    "id": "SwfFGdwRC3qE"
   },
   "source": [
    "Calculating and Checking the sign values to come up with a conclusion!!"
   ]
  },
  {
   "cell_type": "code",
   "execution_count": 9,
   "metadata": {
    "colab": {
     "base_uri": "https://localhost:8080/"
    },
    "id": "zwmx_HepC-DY",
    "outputId": "bf0d7177-3cc9-4e1b-db7f-aca303125e23"
   },
   "outputs": [
    {
     "name": "stdout",
     "output_type": "stream",
     "text": [
      "Median of the sample: 155.68\n",
      "No of Positives :  12\n",
      "No of Negatives :  12\n",
      "No of Zeroes :  1\n",
      "Sample Size :  23\n",
      "Calculated Sign Value :  12\n",
      "Tabulated Sign Value :  1\n",
      "\n",
      "\n",
      "Accepting the H0 (Null Hypothesis)\n"
     ]
    }
   ],
   "source": [
    "sign_cal = sign(sign_sample)\n",
    "\n",
    "sign_tabulated = 1 # alpha = 0.05, two-tailed test, n = 11\n",
    "\n",
    "print(\"Calculated Sign Value : \", sign_cal)\n",
    "print(\"Tabulated Sign Value : \", sign_tabulated)\n",
    "print(\"\\n\")\n",
    "if(sign_cal > sign_tabulated):\n",
    "  print(\"Accepting the H0 (Null Hypothesis)\")\n",
    "else:\n",
    "  print(\"Rejecting the H0 (Null Hypothesis)\")"
   ]
  },
  {
   "cell_type": "markdown",
   "metadata": {
    "id": "nc6gyygWEvUy"
   },
   "source": [
    "### Wilcoxon Rank Sum Test :\n",
    "\n",
    "H0 : There is no significant difference between the two independent samples taken from 'CPI' and 'Birth Rate' respectively.\n",
    "\n",
    "H1 : There is significant difference between the two independent samples taken from 'CPI' and 'Birth Rate' respectively."
   ]
  },
  {
   "cell_type": "markdown",
   "metadata": {
    "id": "ZY423UvcFH5M"
   },
   "source": [
    "Sampling the samples from the dataset according to requirements!"
   ]
  },
  {
   "cell_type": "code",
   "execution_count": 10,
   "metadata": {
    "colab": {
     "base_uri": "https://localhost:8080/"
    },
    "id": "mf9Nm_cgDMgK",
    "outputId": "03173513-37b9-454d-cecf-3a160c786c70"
   },
   "outputs": [
    {
     "name": "stdout",
     "output_type": "stream",
     "text": [
      "[148.32 125.08 179.68 106.58 184.33 110.5  155.86 133.85 132.3  117.7\n",
      " 166.2  104.9  105.48 104.9  156.32]\n",
      "[12.6  42.17 36.22 32.66 29.08 35.35 40.73 10.3  32.66 16.1  16.75 10.1\n",
      " 18.78  9.   10.65 12.6  32.66]\n"
     ]
    }
   ],
   "source": [
    "np.random.seed(20)\n",
    "\n",
    "w_sample_1 = np.random.choice(cpi, size = 15, replace = True)\n",
    "w_sample_2 = np.random.choice(dataset['Birth Rate'], size = 17, replace = True)\n",
    "\n",
    "print(w_sample_1)\n",
    "print(w_sample_2)"
   ]
  },
  {
   "cell_type": "markdown",
   "metadata": {
    "id": "MmhXJqVTFsTL"
   },
   "source": [
    "Defining the wilcoxon rank sum test function!!"
   ]
  },
  {
   "cell_type": "code",
   "execution_count": 11,
   "metadata": {
    "id": "k9mBvXq4Fwco"
   },
   "outputs": [],
   "source": [
    "from scipy.stats import rankdata\n",
    "from scipy.stats import mannwhitneyu\n",
    "\n",
    "def wilcoxon_rank_sum(s1, s2):\n",
    "    n1, n2 = len(s1), len(s2)\n",
    "\n",
    "    combine = np.concatenate([s1, s2])\n",
    "    ranks = len(combine) + 1 - rankdata(combine)\n",
    "\n",
    "    # Create a DataFrame to display the combined data and ranks\n",
    "    data_table = pd.DataFrame({\n",
    "        'Combined Data': combine,\n",
    "        'Rank': ranks\n",
    "    })\n",
    "\n",
    "    # # Display the data table\n",
    "    # print(\"Combined Data and Ranks:\")\n",
    "    # print(data_table)\n",
    "\n",
    "    R_s1, R_s2 = ranks[:n1], ranks[n1:]\n",
    "    min_count = min(n1, n2)\n",
    "\n",
    "    R = np.sum(R_s1) if n1 <= n2 else np.sum(R_s2)\n",
    "\n",
    "    mean_R = min_count * (n1 + n2 + 1) / 2\n",
    "\n",
    "    std_R = np.sqrt(n1 * n2 * (n1 + n2 + 1) / 12)\n",
    "\n",
    "    z_cal = np.round(np.abs(R - mean_R) / std_R, 4)\n",
    "    # statistic, p_value = mannwhitneyu(s1, s2)\n",
    "    # print(np.round(np.abs(statistic - mean_R) / std_R, 4))\n",
    "\n",
    "    return [z_cal, data_table]"
   ]
  },
  {
   "cell_type": "markdown",
   "metadata": {
    "id": "9ck3CkgoF6pF"
   },
   "source": [
    "Calculating the values and coming up with the result!!"
   ]
  },
  {
   "cell_type": "code",
   "execution_count": 12,
   "metadata": {
    "colab": {
     "base_uri": "https://localhost:8080/"
    },
    "id": "4_f7tKljF_ri",
    "outputId": "16770e6a-57d4-4977-a448-6bd0b4cbdbfc"
   },
   "outputs": [
    {
     "name": "stdout",
     "output_type": "stream",
     "text": [
      "Calcuated Z statistic: 4.8148\n",
      "Tabuated Z statistic: 1.96\n",
      "Reject H0\n"
     ]
    }
   ],
   "source": [
    "# For 5% level of significance Ztab = 1.9600\n",
    "z_tab = 1.9600\n",
    "result = wilcoxon_rank_sum(w_sample_1,w_sample_2)\n",
    "z_cal = result[0]\n",
    "rank_table = result[1]\n",
    "print('Calcuated Z statistic:', z_cal)\n",
    "print('Tabuated Z statistic:', z_tab)\n",
    "print('Accept H0') if z_cal <= z_tab else print('Reject H0')"
   ]
  },
  {
   "cell_type": "code",
   "execution_count": 13,
   "metadata": {
    "colab": {
     "base_uri": "https://localhost:8080/",
     "height": 1000
    },
    "id": "SE4a_gLkGB-l",
    "outputId": "98d30054-5d97-4d9f-e64d-4407743b6db4"
   },
   "outputs": [
    {
     "data": {
      "text/html": [
       "<div>\n",
       "<style scoped>\n",
       "    .dataframe tbody tr th:only-of-type {\n",
       "        vertical-align: middle;\n",
       "    }\n",
       "\n",
       "    .dataframe tbody tr th {\n",
       "        vertical-align: top;\n",
       "    }\n",
       "\n",
       "    .dataframe thead th {\n",
       "        text-align: right;\n",
       "    }\n",
       "</style>\n",
       "<table border=\"1\" class=\"dataframe\">\n",
       "  <thead>\n",
       "    <tr style=\"text-align: right;\">\n",
       "      <th></th>\n",
       "      <th>Combined Data</th>\n",
       "      <th>Rank</th>\n",
       "    </tr>\n",
       "  </thead>\n",
       "  <tbody>\n",
       "    <tr>\n",
       "      <th>0</th>\n",
       "      <td>148.32</td>\n",
       "      <td>6.0</td>\n",
       "    </tr>\n",
       "    <tr>\n",
       "      <th>1</th>\n",
       "      <td>125.08</td>\n",
       "      <td>9.0</td>\n",
       "    </tr>\n",
       "    <tr>\n",
       "      <th>2</th>\n",
       "      <td>179.68</td>\n",
       "      <td>2.0</td>\n",
       "    </tr>\n",
       "    <tr>\n",
       "      <th>3</th>\n",
       "      <td>106.58</td>\n",
       "      <td>12.0</td>\n",
       "    </tr>\n",
       "    <tr>\n",
       "      <th>4</th>\n",
       "      <td>184.33</td>\n",
       "      <td>1.0</td>\n",
       "    </tr>\n",
       "    <tr>\n",
       "      <th>5</th>\n",
       "      <td>110.50</td>\n",
       "      <td>11.0</td>\n",
       "    </tr>\n",
       "    <tr>\n",
       "      <th>6</th>\n",
       "      <td>155.86</td>\n",
       "      <td>5.0</td>\n",
       "    </tr>\n",
       "    <tr>\n",
       "      <th>7</th>\n",
       "      <td>133.85</td>\n",
       "      <td>7.0</td>\n",
       "    </tr>\n",
       "    <tr>\n",
       "      <th>8</th>\n",
       "      <td>132.30</td>\n",
       "      <td>8.0</td>\n",
       "    </tr>\n",
       "    <tr>\n",
       "      <th>9</th>\n",
       "      <td>117.70</td>\n",
       "      <td>10.0</td>\n",
       "    </tr>\n",
       "    <tr>\n",
       "      <th>10</th>\n",
       "      <td>166.20</td>\n",
       "      <td>3.0</td>\n",
       "    </tr>\n",
       "    <tr>\n",
       "      <th>11</th>\n",
       "      <td>104.90</td>\n",
       "      <td>14.5</td>\n",
       "    </tr>\n",
       "    <tr>\n",
       "      <th>12</th>\n",
       "      <td>105.48</td>\n",
       "      <td>13.0</td>\n",
       "    </tr>\n",
       "    <tr>\n",
       "      <th>13</th>\n",
       "      <td>104.90</td>\n",
       "      <td>14.5</td>\n",
       "    </tr>\n",
       "    <tr>\n",
       "      <th>14</th>\n",
       "      <td>156.32</td>\n",
       "      <td>4.0</td>\n",
       "    </tr>\n",
       "    <tr>\n",
       "      <th>15</th>\n",
       "      <td>12.60</td>\n",
       "      <td>27.5</td>\n",
       "    </tr>\n",
       "    <tr>\n",
       "      <th>16</th>\n",
       "      <td>42.17</td>\n",
       "      <td>16.0</td>\n",
       "    </tr>\n",
       "    <tr>\n",
       "      <th>17</th>\n",
       "      <td>36.22</td>\n",
       "      <td>18.0</td>\n",
       "    </tr>\n",
       "    <tr>\n",
       "      <th>18</th>\n",
       "      <td>32.66</td>\n",
       "      <td>21.0</td>\n",
       "    </tr>\n",
       "    <tr>\n",
       "      <th>19</th>\n",
       "      <td>29.08</td>\n",
       "      <td>23.0</td>\n",
       "    </tr>\n",
       "    <tr>\n",
       "      <th>20</th>\n",
       "      <td>35.35</td>\n",
       "      <td>19.0</td>\n",
       "    </tr>\n",
       "    <tr>\n",
       "      <th>21</th>\n",
       "      <td>40.73</td>\n",
       "      <td>17.0</td>\n",
       "    </tr>\n",
       "    <tr>\n",
       "      <th>22</th>\n",
       "      <td>10.30</td>\n",
       "      <td>30.0</td>\n",
       "    </tr>\n",
       "    <tr>\n",
       "      <th>23</th>\n",
       "      <td>32.66</td>\n",
       "      <td>21.0</td>\n",
       "    </tr>\n",
       "    <tr>\n",
       "      <th>24</th>\n",
       "      <td>16.10</td>\n",
       "      <td>26.0</td>\n",
       "    </tr>\n",
       "    <tr>\n",
       "      <th>25</th>\n",
       "      <td>16.75</td>\n",
       "      <td>25.0</td>\n",
       "    </tr>\n",
       "    <tr>\n",
       "      <th>26</th>\n",
       "      <td>10.10</td>\n",
       "      <td>31.0</td>\n",
       "    </tr>\n",
       "    <tr>\n",
       "      <th>27</th>\n",
       "      <td>18.78</td>\n",
       "      <td>24.0</td>\n",
       "    </tr>\n",
       "    <tr>\n",
       "      <th>28</th>\n",
       "      <td>9.00</td>\n",
       "      <td>32.0</td>\n",
       "    </tr>\n",
       "    <tr>\n",
       "      <th>29</th>\n",
       "      <td>10.65</td>\n",
       "      <td>29.0</td>\n",
       "    </tr>\n",
       "    <tr>\n",
       "      <th>30</th>\n",
       "      <td>12.60</td>\n",
       "      <td>27.5</td>\n",
       "    </tr>\n",
       "    <tr>\n",
       "      <th>31</th>\n",
       "      <td>32.66</td>\n",
       "      <td>21.0</td>\n",
       "    </tr>\n",
       "  </tbody>\n",
       "</table>\n",
       "</div>"
      ],
      "text/plain": [
       "    Combined Data  Rank\n",
       "0          148.32   6.0\n",
       "1          125.08   9.0\n",
       "2          179.68   2.0\n",
       "3          106.58  12.0\n",
       "4          184.33   1.0\n",
       "5          110.50  11.0\n",
       "6          155.86   5.0\n",
       "7          133.85   7.0\n",
       "8          132.30   8.0\n",
       "9          117.70  10.0\n",
       "10         166.20   3.0\n",
       "11         104.90  14.5\n",
       "12         105.48  13.0\n",
       "13         104.90  14.5\n",
       "14         156.32   4.0\n",
       "15          12.60  27.5\n",
       "16          42.17  16.0\n",
       "17          36.22  18.0\n",
       "18          32.66  21.0\n",
       "19          29.08  23.0\n",
       "20          35.35  19.0\n",
       "21          40.73  17.0\n",
       "22          10.30  30.0\n",
       "23          32.66  21.0\n",
       "24          16.10  26.0\n",
       "25          16.75  25.0\n",
       "26          10.10  31.0\n",
       "27          18.78  24.0\n",
       "28           9.00  32.0\n",
       "29          10.65  29.0\n",
       "30          12.60  27.5\n",
       "31          32.66  21.0"
      ]
     },
     "execution_count": 13,
     "metadata": {},
     "output_type": "execute_result"
    }
   ],
   "source": [
    "rank_table"
   ]
  }
 ],
 "metadata": {
  "colab": {
   "provenance": []
  },
  "kernelspec": {
   "display_name": "Python 3 (ipykernel)",
   "language": "python",
   "name": "python3"
  },
  "language_info": {
   "codemirror_mode": {
    "name": "ipython",
    "version": 3
   },
   "file_extension": ".py",
   "mimetype": "text/x-python",
   "name": "python",
   "nbconvert_exporter": "python",
   "pygments_lexer": "ipython3",
   "version": "3.10.11"
  }
 },
 "nbformat": 4,
 "nbformat_minor": 4
}
