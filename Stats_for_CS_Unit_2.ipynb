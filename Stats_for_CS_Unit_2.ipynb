{
 "cells": [
  {
   "cell_type": "markdown",
   "metadata": {
    "id": "FrnR1Ft8CQMu"
   },
   "source": [
    "## Statistics Case Study - Unit II\n",
    "\n",
    "Index :\n",
    "\n",
    "**Z-Test for Hypothesis** :\n",
    "\n",
    "1.   One Sample Z-Test (Unknown Variance)\n",
    "2.   Two Sample Z-Test (Same population)\n",
    "3.   Two Sample Z-Test (Different population)\n",
    "\n",
    "**T-Test for Hypothesis** :\n",
    "\n",
    "\n",
    "1.   One Sample T-Test (Unknown Variance)\n",
    "2.   Two Sample T-Test (Same population)\n",
    "3.   Two Sample T-Test (Different population)\n",
    "\n",
    "\n",
    "**Proportion Test for Hypothesis**:\n",
    "\n",
    "1. One Sample Proportion-Test (Unknown Variance)\n",
    "\n",
    "\n",
    "\n",
    "\n",
    "\n",
    "\n"
   ]
  },
  {
   "cell_type": "markdown",
   "metadata": {
    "id": "M3rqniDsSQd_"
   },
   "source": [
    "### One Sample Z-Test (Unknown Variance) :\n",
    "\n",
    "H0 (Null Hypothesis) : The average Birth Rate is more than 40.\n",
    "\n",
    "H1 (Alternate Hypothesis) : The average Birth Rate is not more than 40.\n"
   ]
  },
  {
   "cell_type": "markdown",
   "metadata": {
    "id": "9jcyUudUUXBa"
   },
   "source": [
    "Importing the necessary python modules"
   ]
  },
  {
   "cell_type": "code",
   "execution_count": 3,
   "metadata": {
    "id": "3zyuBoS6Ruw0"
   },
   "outputs": [],
   "source": [
    "import pandas as pd\n",
    "import numpy as np\n",
    "from scipy import stats as ss\n",
    "import statistics as st\n",
    "import math\n",
    "from sklearn.preprocessing import StandardScaler"
   ]
  },
  {
   "cell_type": "markdown",
   "metadata": {
    "id": "lX70t0jhUsyT"
   },
   "source": [
    "Defining the One Sample Z-Test function"
   ]
  },
  {
   "cell_type": "code",
   "execution_count": 4,
   "metadata": {
    "id": "TI5E6efgVato"
   },
   "outputs": [],
   "source": [
    "def one_sample_z_test(s_mean, μ, s_dev, s_size):\n",
    "  den = ((s_dev) / math.sqrt(s_size-1))\n",
    "  z_cal = abs(s_mean - μ) / den\n",
    "  return round(z_cal, 5)"
   ]
  },
  {
   "cell_type": "markdown",
   "metadata": {
    "id": "bE7Q_RAWWeoy"
   },
   "source": [
    "Loading and storing the dataset and performing random sampling on it"
   ]
  },
  {
   "cell_type": "code",
   "execution_count": 5,
   "metadata": {
    "colab": {
     "base_uri": "https://localhost:8080/"
    },
    "id": "Z6gLfXyPWcwm",
    "outputId": "46a11f51-7c69-449f-a647-a8a6ccd10eaf"
   },
   "outputs": [
    {
     "data": {
      "text/plain": [
       "array([14.  , 10.1 , 19.49, 19.97,  8.1 , 10.7 , 24.56, 34.12,  9.5 ,\n",
       "       41.54, 35.39, 41.18, 16.1 , 36.22, 24.35, 21.6 , 27.1 , 12.43,\n",
       "       24.28, 28.75, 12.5 , 21.28, 18.78, 26.81, 37.93, 10.65, 10.1 ,\n",
       "       17.6 , 13.94,  8.9 , 10.3 , 29.41, 42.17,  8.11, 18.25, 13.92,\n",
       "        7.4 , 10.  , 23.55, 21.75, 17.86, 13.47, 16.75, 14.88, 10.2 ,\n",
       "        9.2 , 17.55, 41.18, 11.3 , 12.6 ])"
      ]
     },
     "execution_count": 5,
     "metadata": {},
     "output_type": "execute_result"
    }
   ],
   "source": [
    "file_path = \"world-data-2023-1.csv\"\n",
    "data = pd.read_csv(file_path)\n",
    "\n",
    "alpha = 0.05 # Level of significance\n",
    "\n",
    "pop_mean = 40.0 # Mean we are testing against (μ)\n",
    "\n",
    "sample_size = 50\n",
    "\n",
    "z_tabulated = 1.645 # Z_tab @ alpha = 0.05 and one-tailed test\n",
    "\n",
    "sample = np.random.choice(data['Birth Rate'], size=sample_size, replace=False)\n",
    "\n",
    "sample\n"
   ]
  },
  {
   "cell_type": "markdown",
   "metadata": {
    "id": "w4pyg3RiYAWn"
   },
   "source": [
    "Calculating necessary values and performing the test"
   ]
  },
  {
   "cell_type": "code",
   "execution_count": 6,
   "metadata": {
    "colab": {
     "base_uri": "https://localhost:8080/"
    },
    "id": "e2--bFkcXG37",
    "outputId": "529557aa-98bb-4b5d-a172-134557b4a635"
   },
   "outputs": [
    {
     "name": "stdout",
     "output_type": "stream",
     "text": [
      "Z_Calculated Value :  13.84696\n",
      "Z_Tabulated Value :  1.645\n"
     ]
    }
   ],
   "source": [
    "mean = np.mean(sample)\n",
    "\n",
    "std_dev = np.std(sample, ddof=1) # ddof=1 for sample standard deviation\n",
    "\n",
    "z_calculated = one_sample_z_test(mean, pop_mean, std_dev, sample_size)\n",
    "\n",
    "print(\"Z_Calculated Value : \", z_calculated)\n",
    "\n",
    "print(\"Z_Tabulated Value : \", z_tabulated)"
   ]
  },
  {
   "cell_type": "code",
   "execution_count": 7,
   "metadata": {
    "id": "5DadglihZQcQ"
   },
   "outputs": [],
   "source": [
    "# Perform the hypothesis test\n",
    "if abs(z_calculated) >= z_tabulated:\n",
    "    result = \"Reject the null hypothesis (H0) (or) Accepting alternate hypothesis (H1)\"\n",
    "else:\n",
    "    result = \"Accept the null hypothesis (H0)\""
   ]
  },
  {
   "cell_type": "code",
   "execution_count": 8,
   "metadata": {
    "colab": {
     "base_uri": "https://localhost:8080/"
    },
    "id": "yPzkpje8ZVOX",
    "outputId": "67803908-69f7-4526-e50a-931bae94f3e6"
   },
   "outputs": [
    {
     "name": "stdout",
     "output_type": "stream",
     "text": [
      "Result :  Reject the null hypothesis (H0) (or) Accepting alternate hypothesis (H1)\n"
     ]
    }
   ],
   "source": [
    "print('Result : ' , result)"
   ]
  },
  {
   "cell_type": "markdown",
   "metadata": {
    "id": "WRa2w0JkyYmT"
   },
   "source": [
    "Testing with the confidence interval.\n"
   ]
  },
  {
   "cell_type": "code",
   "execution_count": 9,
   "metadata": {
    "colab": {
     "base_uri": "https://localhost:8080/"
    },
    "id": "xYAiP4txycn7",
    "outputId": "6c7f305a-1b99-4b72-db23-fd32ed09f88c"
   },
   "outputs": [
    {
     "name": "stdout",
     "output_type": "stream",
     "text": [
      "Confidence Interval - (95%) : \n",
      "17.375657703995664  < μ <  22.137142296004335\n"
     ]
    }
   ],
   "source": [
    "limit = z_tabulated * (std_dev/(math.sqrt(sample_size)))\n",
    "\n",
    "lower_limit = mean - limit\n",
    "upper_limit = mean + limit\n",
    "\n",
    "print(\"Confidence Interval - (95%) : \")\n",
    "\n",
    "print(lower_limit , \" < μ < \" , upper_limit)"
   ]
  },
  {
   "cell_type": "markdown",
   "metadata": {
    "id": "Z71PRcL_aC9u"
   },
   "source": [
    "### Two Sample Z-Test (Same population) :\n",
    "*(Two Samples are drawn from the same population)*\n",
    "\n",
    "\n",
    "H0 (Null Hypothesis) : The average Birth Rate both samples is same.\n",
    "\n",
    "H1 (Alternate Hypothesis) : The average Birth Rate both sample is not same.\n"
   ]
  },
  {
   "cell_type": "markdown",
   "metadata": {
    "id": "zFKc3gbdx-AR"
   },
   "source": [
    "Defining Two Sample (Same Population) Z-Test function."
   ]
  },
  {
   "cell_type": "code",
   "execution_count": 10,
   "metadata": {
    "id": "RskEk_uUw7zG"
   },
   "outputs": [],
   "source": [
    "def two_sample_z_same_population(s_mean1, s_mean2, s_size1, s_size2, s_dev1, s_dev2):\n",
    "    temp = (1/(s_size1-1)) + (1/(s_size2-1))\n",
    "    df = s_size1 + s_size2 - 2\n",
    "    var = (s_size1 - 1) * s_dev1*s_dev1 + (s_size2 - 1) * s_dev2*s_dev2\n",
    "    sP = var/df # Pooled Variance\n",
    "    z_cal = abs(s_mean1 - s_mean2) / (sP * math.sqrt(temp))\n",
    "    return [round(z_cal, 5),sP]  # Round to 5 decimal places"
   ]
  },
  {
   "cell_type": "markdown",
   "metadata": {
    "id": "wn2Wzzvu0X3j"
   },
   "source": [
    "Loading and storing the dataset and performing random sampling on it\n"
   ]
  },
  {
   "cell_type": "code",
   "execution_count": 11,
   "metadata": {
    "colab": {
     "base_uri": "https://localhost:8080/"
    },
    "id": "eUyOaPIY0dMY",
    "outputId": "90c1d48c-12d9-4c1d-b7b2-c7b2873e2368"
   },
   "outputs": [
    {
     "name": "stdout",
     "output_type": "stream",
     "text": [
      "\n",
      "Random Sample 1:\n",
      "[21.98 17.26 33.69 23.55  9.2  13.97  8.1  38.54 12.5  10.65 24.56 36.22\n",
      " 13.97  9.   12.6  10.9  29.08 24.28 10.3  13.92  7.4  21.28 27.1  34.12\n",
      " 21.6  18.07 17.55  8.9  11.3  24.35  9.6  13.47 24.82 35.35 29.41 17.86\n",
      " 16.1  41.18 17.6  26.81]\n",
      "\n",
      "Random Sample 2:\n",
      "[18.18 10.9  34.12 29.08 12.   10.   17.86 26.81 10.    8.11 29.41 13.97\n",
      " 13.97 10.1   7.4  19.97 35.39 28.75 17.02 13.99 10.3  21.77 24.35 11.3\n",
      " 12.5  17.26 42.17  8.1  10.3  21.98 41.18 11.78 13.92 18.25 19.49]\n"
     ]
    }
   ],
   "source": [
    "# file_path = '/content/dataset_bank.csv'\n",
    "data_m = pd.read_csv(file_path)\n",
    "\n",
    "alpha_m = 0.10 # Level of significance\n",
    "\n",
    "z_tabulated_m = 1.282 # Z_tab @ alpha = 0.10 and one-tailed test\n",
    "\n",
    "#married_age_data = data_m.loc[data_m['marital'] == 'married', 'age'].to_numpy()\n",
    "birth_rate = data['Birth Rate']\n",
    "\n",
    "# Create two random samples with sizes greater than 30\n",
    "msample1 = np.random.choice(birth_rate, size=40, replace=False)\n",
    "msample2 = np.random.choice(birth_rate, size=35, replace=False)\n",
    "\n",
    "# Display the two random samples\n",
    "print(\"\\nRandom Sample 1:\")\n",
    "print(msample1)\n",
    "print(\"\\nRandom Sample 2:\")\n",
    "print(msample2)\n",
    "\n",
    "mean_1 = np.mean(msample1)\n",
    "mean_2 = np.mean(msample2)\n",
    "\n",
    "std_dev1 = np.std(msample1)\n",
    "std_dev2 = np.std(msample2)\n",
    "\n",
    "n1 = len(msample1)\n",
    "n2 = len(msample2)\n"
   ]
  },
  {
   "cell_type": "markdown",
   "metadata": {
    "id": "DspwSwi73DNL"
   },
   "source": [
    "Calculating necessary values and performing the test"
   ]
  },
  {
   "cell_type": "code",
   "execution_count": 12,
   "metadata": {
    "colab": {
     "base_uri": "https://localhost:8080/"
    },
    "id": "foS9xoo73Dtc",
    "outputId": "046f9517-da2f-42b8-e47e-5bbd534c41fb"
   },
   "outputs": [
    {
     "name": "stdout",
     "output_type": "stream",
     "text": [
      "Z_Calculated Value :  0.0652\n",
      "Z_Tabulated Value :  1.282\n"
     ]
    }
   ],
   "source": [
    "res = two_sample_z_same_population(mean_1, mean_2, n1, n2, std_dev1, std_dev2)\n",
    "\n",
    "z_calculated_m = res[0]\n",
    "\n",
    "print(\"Z_Calculated Value : \", z_calculated_m)\n",
    "\n",
    "print(\"Z_Tabulated Value : \", z_tabulated_m)"
   ]
  },
  {
   "cell_type": "code",
   "execution_count": 13,
   "metadata": {
    "id": "vbv18zQ735Yl"
   },
   "outputs": [],
   "source": [
    "# Perform the hypothesis test\n",
    "if abs(z_calculated_m) >= z_tabulated_m:\n",
    "    result_m = \"Reject the null hypothesis (H0) (or) Accepting alternate hypothesis (H1)\"\n",
    "else:\n",
    "    result_m = \"Accept the null hypothesis (H0)\""
   ]
  },
  {
   "cell_type": "code",
   "execution_count": 14,
   "metadata": {
    "colab": {
     "base_uri": "https://localhost:8080/"
    },
    "id": "RJgnsROS38fz",
    "outputId": "27369bd8-b82f-4905-cee8-29ce95d6f73a"
   },
   "outputs": [
    {
     "name": "stdout",
     "output_type": "stream",
     "text": [
      "Result :  Accept the null hypothesis (H0)\n"
     ]
    }
   ],
   "source": [
    "print('Result : ' , result_m)"
   ]
  },
  {
   "cell_type": "markdown",
   "metadata": {
    "id": "LaZ9bxmn4Ivv"
   },
   "source": [
    "Testing with the confidence interval."
   ]
  },
  {
   "cell_type": "code",
   "execution_count": 15,
   "metadata": {
    "colab": {
     "base_uri": "https://localhost:8080/"
    },
    "id": "wi5j58kV4Opr",
    "outputId": "75b728d1-8273-4989-9e40-c4cf0aad27c6"
   },
   "outputs": [
    {
     "name": "stdout",
     "output_type": "stream",
     "text": [
      "Confidence Interval - (90%) : \n",
      "-1.0466708674329093  < μ1 - μ2 <  3.7148137245757633\n"
     ]
    }
   ],
   "source": [
    "sP = res[1] # Pooled Variance\n",
    "m_mean = abs(mean_1 - mean_2)\n",
    "\n",
    "temp = (1/(n1-1)) + (1/(n2-1))\n",
    "\n",
    "m_limit = z_tabulated_m * (sP * math.sqrt(temp))\n",
    "\n",
    "lower_limit = m_mean - limit\n",
    "upper_limit = m_mean + limit\n",
    "\n",
    "print(\"Confidence Interval - (90%) : \")\n",
    "\n",
    "print(lower_limit , \" < μ1 - μ2 < \" , upper_limit)"
   ]
  },
  {
   "cell_type": "markdown",
   "metadata": {
    "id": "-78drnHQ5e5l"
   },
   "source": [
    "### Two Sample Z-Test (Different population) :\n",
    "*(Two Samples are drawn from the different population)*\n",
    "\n",
    "\n",
    "\n",
    "H0 (Null Hypothesis) : The average of both samples is same.\n",
    "\n",
    "H1 (Alternate Hypothesis) : The average of both sample is not same."
   ]
  },
  {
   "cell_type": "markdown",
   "metadata": {
    "id": "DtsVvDiS50fR"
   },
   "source": [
    "Defining Two Sample (*Different* Population) Z-Test function."
   ]
  },
  {
   "cell_type": "code",
   "execution_count": 16,
   "metadata": {
    "id": "o918p5rK5sxJ"
   },
   "outputs": [],
   "source": [
    "def two_sample_z_different_population(s_mean1, s_mean2, s_size1, s_size2, s_dev1, s_dev2):\n",
    "  temp1 = ((s_dev1)**2 / (s_size1 - 1))\n",
    "  temp2 = ((s_dev2)**2 / (s_size2 - 1))\n",
    "  den = math.sqrt(temp1 + temp2)\n",
    "  z_cal = abs(s_mean1 - s_mean2) / den\n",
    "  return [round(z_cal, 5), den]  # Round to 5 decimal places"
   ]
  },
  {
   "cell_type": "markdown",
   "metadata": {
    "id": "mqrEeT2d_BNv"
   },
   "source": [
    "Loading and storing the dataset and performing random sampling on it"
   ]
  },
  {
   "cell_type": "code",
   "execution_count": 17,
   "metadata": {
    "colab": {
     "base_uri": "https://localhost:8080/"
    },
    "id": "ypH_eCom_H91",
    "outputId": "6d29e3a6-f920-4cb3-cc61-e3e5b27d603c"
   },
   "outputs": [
    {
     "name": "stdout",
     "output_type": "stream",
     "text": [
      "\n",
      "Random Sample 1: (Birth)\n",
      "[33.04 18.07 10.65 10.1  33.69 14.   41.18 35.74 40.73 10.   41.18 35.39\n",
      " 17.6  26.81 13.92 18.78 12.   12.43 24.28  7.4  35.35 18.25 31.61 24.35\n",
      " 17.55 32.86 23.55 14.88 37.93  9.6  11.78 10.   10.3  19.97 16.1  12.5\n",
      "  8.11 21.98 33.24  9.   13.47 21.6 ]\n",
      "\n",
      "Random Sample 2: (Life)\n",
      "[80.  81.9 61.7 64.7 52.8 79.1 69.3 71.8 63.8 82.3 58.9 74.9 82.8 58.4\n",
      " 63.7 84.2 77.3 74.4 80.1 73.8 74.5 82.5 71.5 53.7 63.7 78.9 75.4 74.9\n",
      " 74.4 77.1 57.4 78.5 82.1 82.7 74.1 82.7]\n"
     ]
    }
   ],
   "source": [
    "# file_path = '/content/dataset_bank.csv'\n",
    "data_m = pd.read_csv(file_path)\n",
    "\n",
    "alpha_m = 0.10 # Level of significance\n",
    "\n",
    "z_tabulated_m = 1.282 # Z_tab @ alpha = 0.10 and one-tailed test\n",
    "\n",
    "birth_rate = data['Birth Rate']\n",
    "life_expectancy =data['Life expectancy']\n",
    "\n",
    "\n",
    "# Create two random samples with sizes greater than 30\n",
    "m_sample1 = np.random.choice(birth_rate, size=42, replace=False)\n",
    "m_sample2 = np.random.choice(life_expectancy, size=36, replace=False)\n",
    "\n",
    "# Display the two random samples\n",
    "print(\"\\nRandom Sample 1: (Birth)\")\n",
    "print(m_sample1)\n",
    "print(\"\\nRandom Sample 2: (Life)\")\n",
    "print(m_sample2)\n",
    "\n",
    "mean_1 = np.mean(m_sample1)\n",
    "mean_2 = np.mean(m_sample2)\n",
    "\n",
    "std_dev1 = np.std(msample1)\n",
    "std_dev2 = np.std(msample2)\n",
    "\n",
    "n1 = len(m_sample1)\n",
    "n2 = len(m_sample2)"
   ]
  },
  {
   "cell_type": "markdown",
   "metadata": {
    "id": "uaByVK1kAX6J"
   },
   "source": [
    "Calculating necessary values and performing the test"
   ]
  },
  {
   "cell_type": "code",
   "execution_count": 18,
   "metadata": {
    "colab": {
     "base_uri": "https://localhost:8080/"
    },
    "id": "zGWRJGBLAVM3",
    "outputId": "88920392-e89b-4a73-dbd2-2491a39c488e"
   },
   "outputs": [
    {
     "name": "stdout",
     "output_type": "stream",
     "text": [
      "Z_Calculated Value :  23.98052\n",
      "Z_Tabulated Value :  1.282\n"
     ]
    }
   ],
   "source": [
    "t_res = two_sample_z_different_population(mean_1, mean_2, n1, n2, std_dev1, std_dev2)\n",
    "\n",
    "z_calculated_ms = t_res[0]\n",
    "\n",
    "print(\"Z_Calculated Value : \", z_calculated_ms)\n",
    "\n",
    "print(\"Z_Tabulated Value : \", z_tabulated_m)"
   ]
  },
  {
   "cell_type": "code",
   "execution_count": 19,
   "metadata": {
    "colab": {
     "base_uri": "https://localhost:8080/"
    },
    "id": "Ihpn1EABA1L7",
    "outputId": "a31de5d8-74ed-4875-9d49-2051043b12bc"
   },
   "outputs": [
    {
     "name": "stdout",
     "output_type": "stream",
     "text": [
      "Result :  Reject the null hypothesis (H0) (or) Accepting alternate hypothesis (H1)\n"
     ]
    }
   ],
   "source": [
    "# Perform the hypothesis test\n",
    "if abs(z_calculated_ms) >= z_tabulated_m:\n",
    "    result_ms = \"Reject the null hypothesis (H0) (or) Accepting alternate hypothesis (H1)\"\n",
    "else:\n",
    "    result_ms = \"Accept the null hypothesis (H0)\"\n",
    "\n",
    "print('Result : ' , result_ms)"
   ]
  },
  {
   "cell_type": "markdown",
   "metadata": {
    "id": "SqgsU1NdBAIv"
   },
   "source": [
    "Testing with the confidence interval."
   ]
  },
  {
   "cell_type": "code",
   "execution_count": 20,
   "metadata": {
    "colab": {
     "base_uri": "https://localhost:8080/"
    },
    "id": "k0XIItPMBB3J",
    "outputId": "6d6fcd5d-dc9c-48de-9694-eca2a2a85c91"
   },
   "outputs": [
    {
     "name": "stdout",
     "output_type": "stream",
     "text": [
      "Confidence Interval - (90%) : \n",
      "48.02703876984952  < μ1 - μ2 <  55.10137392856314\n"
     ]
    }
   ],
   "source": [
    "tent = t_res[1]\n",
    "\n",
    "limit_ms = z_tabulated * (tent)\n",
    "\n",
    "ms_mean = abs(mean_1 - mean_2)\n",
    "\n",
    "lower_limit = ms_mean - limit_ms\n",
    "upper_limit = ms_mean + limit_ms\n",
    "\n",
    "print(\"Confidence Interval - (90%) : \")\n",
    "\n",
    "print(lower_limit , \" < μ1 - μ2 < \" , upper_limit)"
   ]
  },
  {
   "cell_type": "markdown",
   "metadata": {
    "id": "P2iqivuaByR3"
   },
   "source": [
    "### One Sample T-Test (Unknown Variance) :\n",
    "\n",
    "H0 (Null Hypothesis) : The average CPIis more than 280 seconds.\n",
    "\n",
    "H1 (Alternate Hypothesis) : The average CPI is not more than 280 seconds.\n"
   ]
  },
  {
   "cell_type": "markdown",
   "metadata": {
    "id": "GPdWYe8wCcvj"
   },
   "source": [
    "Defining One Sample Z-Test function."
   ]
  },
  {
   "cell_type": "code",
   "execution_count": 21,
   "metadata": {
    "id": "-KlSTt5zCV1K"
   },
   "outputs": [],
   "source": [
    "def one_sample_t_test(s_mean, μ, s_dev, s_size):\n",
    "  den = ((s_dev) / math.sqrt(s_size-1))\n",
    "  t_cal = abs(s_mean - μ) / den\n",
    "  return round(t_cal, 5)"
   ]
  },
  {
   "cell_type": "markdown",
   "metadata": {
    "id": "nWI1P4ZXCmV2"
   },
   "source": [
    "Loading and storing the dataset and performing random sampling on it"
   ]
  },
  {
   "cell_type": "code",
   "execution_count": 22,
   "metadata": {
    "colab": {
     "base_uri": "https://localhost:8080/"
    },
    "id": "WaDdiBwKClPL",
    "outputId": "1b57aea4-0251-4ae0-a5da-6c1eeb7fb5a4"
   },
   "outputs": [
    {
     "name": "stdout",
     "output_type": "stream",
     "text": [
      "[105.48 149.9  151.36 418.34 113.45 111.23 119.8  117.11 172.73 166.2\n",
      " 116.48 223.13 133.61 109.82 141.54 117.7  261.73 186.86]\n"
     ]
    }
   ],
   "source": [
    "# file_path = '/content/dataset_bank.csv'\n",
    "data = pd.read_csv(file_path)\n",
    "\n",
    "alpha = 0.05 # Level of significance\n",
    "\n",
    "pop_duration = 280.0 # Mean we are testing against (μ)\n",
    "\n",
    "sample_size = 18\n",
    "\n",
    "t_tabulated = 1.7396 # Z_tab @ alpha = 0.05 and one-tailed test\n",
    "\n",
    "sample = np.random.choice(data['CPI'], size=sample_size, replace=False)\n",
    "\n",
    "print(sample)\n"
   ]
  },
  {
   "cell_type": "markdown",
   "metadata": {
    "id": "Q7Cv-mQaD12M"
   },
   "source": [
    "Calculating necessary values and performing the test"
   ]
  },
  {
   "cell_type": "code",
   "execution_count": 23,
   "metadata": {
    "colab": {
     "base_uri": "https://localhost:8080/"
    },
    "id": "-3jhTWXmDBwZ",
    "outputId": "811b4433-2ad2-449a-8dc9-fd199019a3b8"
   },
   "outputs": [
    {
     "name": "stdout",
     "output_type": "stream",
     "text": [
      "T_Calculated Value :  6.5498\n",
      "T_Tabulated Value :  1.7396\n"
     ]
    }
   ],
   "source": [
    "mean = np.mean(sample)\n",
    "\n",
    "std_dev = np.std(sample, ddof=1) # ddof=1 for sample standard deviation\n",
    "\n",
    "t_calculated = one_sample_t_test(mean, pop_mean, std_dev, sample_size)\n",
    "\n",
    "df = sample_size - 1\n",
    "\n",
    "print(\"T_Calculated Value : \", t_calculated)\n",
    "\n",
    "print(\"T_Tabulated Value : \", t_tabulated)"
   ]
  },
  {
   "cell_type": "code",
   "execution_count": 24,
   "metadata": {
    "colab": {
     "base_uri": "https://localhost:8080/"
    },
    "id": "fr1TDL1Lv_8V",
    "outputId": "67ed372b-7f30-4ee9-c782-bb137768b627"
   },
   "outputs": [
    {
     "name": "stdout",
     "output_type": "stream",
     "text": [
      "Result :  Reject the null hypothesis (H0) (or) Accepting alternate hypothesis (H1)\n"
     ]
    }
   ],
   "source": [
    "# Perform the hypothesis test\n",
    "if abs(t_calculated) >= t_tabulated:\n",
    "    result = \"Reject the null hypothesis (H0) (or) Accepting alternate hypothesis (H1)\"\n",
    "else:\n",
    "    result = \"Accept the null hypothesis (H0)\"\n",
    "\n",
    "print('Result : ' , result)"
   ]
  },
  {
   "cell_type": "markdown",
   "metadata": {
    "id": "eBNY5-zev3Gv"
   },
   "source": [
    "Testing using the confidence interval!"
   ]
  },
  {
   "cell_type": "code",
   "execution_count": 25,
   "metadata": {
    "colab": {
     "base_uri": "https://localhost:8080/"
    },
    "id": "fvvhDGbKvTW_",
    "outputId": "38deada0-016a-4aff-c4ca-7489119ec93a"
   },
   "outputs": [
    {
     "name": "stdout",
     "output_type": "stream",
     "text": [
      "Confidence Interval - (95%) : \n",
      "130.52962226995558  < μ <  193.5225999522667\n"
     ]
    }
   ],
   "source": [
    "limit = t_tabulated * (std_dev/(math.sqrt(sample_size)))\n",
    "\n",
    "lower_limit = mean - limit\n",
    "upper_limit = mean + limit\n",
    "\n",
    "print(\"Confidence Interval - (95%) : \")\n",
    "\n",
    "print(lower_limit , \" < μ < \" , upper_limit)"
   ]
  },
  {
   "cell_type": "markdown",
   "metadata": {
    "id": "_LuWx0b_xOLs"
   },
   "source": [
    "### Two Sample T-Test (Same population) :\n",
    "*(Two Samples are drawn from the same population)*\n",
    "\n",
    "\n",
    "H0 (Null Hypothesis) : The average CPI of both samples is same.\n",
    "\n",
    "H1 (Alternate Hypothesis) : The average CPI of both sample is not same.\n"
   ]
  },
  {
   "cell_type": "markdown",
   "metadata": {
    "id": "Cfiqq6yvxksE"
   },
   "source": [
    "Defining Two Sample (Same Population) Z-Test function."
   ]
  },
  {
   "cell_type": "code",
   "execution_count": 26,
   "metadata": {
    "id": "4_QSz-P_xPiM"
   },
   "outputs": [],
   "source": [
    "def two_sample_t_same_population(s_mean1, s_mean2, s_size1, s_size2, s_dev1, s_dev2):\n",
    "    temp = (1/(s_size1-1)) + (1/(s_size2-1))\n",
    "    df = s_size1 + s_size2 - 2\n",
    "    var = (s_size1 - 1) * s_dev1*s_dev1 + (s_size2 - 1) * s_dev2*s_dev2\n",
    "    sP = var/df # Pooled Variance\n",
    "    t_cal = abs(s_mean1 - s_mean2) / (sP * math.sqrt(temp))\n",
    "    return [round(t_cal, 5),sP]  # Round to 5 decimal places"
   ]
  },
  {
   "cell_type": "markdown",
   "metadata": {
    "id": "OCOXgvEQyBlP"
   },
   "source": [
    "Loading and storing the dataset and performing random sampling on it."
   ]
  },
  {
   "cell_type": "code",
   "execution_count": 27,
   "metadata": {
    "colab": {
     "base_uri": "https://localhost:8080/"
    },
    "id": "XxLbT8wpx3Lk",
    "outputId": "5fd12837-3f65-43a0-a29e-55607f2d0004"
   },
   "outputs": [
    {
     "name": "stdout",
     "output_type": "stream",
     "text": [
      "\n",
      "Random Sample 1:\n",
      "[106.58 124.35 133.61 115.09 108.15 142.92 101.87 126.6  111.65 167.4\n",
      " 122.19 133.85 162.47]\n",
      "\n",
      "Random Sample 2:\n",
      "[184.33 125.6  124.35 108.73 121.46 155.68 124.74 128.85 117.7  149.75\n",
      " 131.91 150.34 418.34 118.38]\n"
     ]
    }
   ],
   "source": [
    "# file_path = '/content/dataset_bank.csv'\n",
    "data_m = pd.read_csv(file_path)\n",
    "\n",
    "alpha_m = 0.10 # Level of significance\n",
    "\n",
    "t_tabulated_m = 2.7874 # Z_tab @ alpha = 0.10 and one-tailed test @ d.f = 25\n",
    "\n",
    "cpi = data['CPI']\n",
    "\n",
    "# Create two random samples with sizes greater than 30\n",
    "msample1 = np.random.choice(cpi, size=13, replace=False)\n",
    "msample2 = np.random.choice(cpi, size=14, replace=False)\n",
    "\n",
    "# Display the two random samples\n",
    "print(\"\\nRandom Sample 1:\")\n",
    "print(msample1)\n",
    "print(\"\\nRandom Sample 2:\")\n",
    "print(msample2)\n",
    "\n",
    "mean_1 = np.mean(msample1)\n",
    "mean_2 = np.mean(msample2)\n",
    "\n",
    "std_dev1 = np.std(msample1)\n",
    "std_dev2 = np.std(msample2)\n",
    "\n",
    "n1 = len(msample1)\n",
    "n2 = len(msample2)\n",
    "\n",
    "df = n1 + n2 -2"
   ]
  },
  {
   "cell_type": "markdown",
   "metadata": {
    "id": "7UyORHYhy8zj"
   },
   "source": [
    "Calculating necessary values and performing the test."
   ]
  },
  {
   "cell_type": "code",
   "execution_count": 28,
   "metadata": {
    "colab": {
     "base_uri": "https://localhost:8080/"
    },
    "id": "Ru18Grg0y9lw",
    "outputId": "ade774d3-46c9-4cd6-d866-7d650555d6ba"
   },
   "outputs": [
    {
     "name": "stdout",
     "output_type": "stream",
     "text": [
      "T_Calculated Value :  0.0212\n",
      "T_Tabulated Value :  2.7874\n"
     ]
    }
   ],
   "source": [
    "res = two_sample_t_same_population(mean_1, mean_2, n1, n2, std_dev1, std_dev2)\n",
    "\n",
    "t_calculated_m = res[0]\n",
    "\n",
    "print(\"T_Calculated Value : \", t_calculated_m)\n",
    "\n",
    "print(\"T_Tabulated Value : \", t_tabulated_m)"
   ]
  },
  {
   "cell_type": "code",
   "execution_count": 29,
   "metadata": {
    "colab": {
     "base_uri": "https://localhost:8080/"
    },
    "id": "_ikPJpgNzpAd",
    "outputId": "08d5c2ee-89b5-4a00-82ef-cd9668c9c71e"
   },
   "outputs": [
    {
     "name": "stdout",
     "output_type": "stream",
     "text": [
      "Result :  Accept the null hypothesis (H0)\n"
     ]
    }
   ],
   "source": [
    "# Perform the hypothesis test\n",
    "if abs(t_calculated_m) >= t_tabulated_m:\n",
    "    result_m = \"Reject the null hypothesis (H0) (or) Accepting alternate hypothesis (H1)\"\n",
    "else:\n",
    "    result_m = \"Accept the null hypothesis (H0)\"\n",
    "\n",
    "print('Result : ' , result_m)"
   ]
  },
  {
   "cell_type": "markdown",
   "metadata": {
    "id": "cmlsYvvBzx3y"
   },
   "source": [
    "Testing with the help of confidence interval."
   ]
  },
  {
   "cell_type": "code",
   "execution_count": 30,
   "metadata": {
    "colab": {
     "base_uri": "https://localhost:8080/"
    },
    "id": "yVoipX70z2Ej",
    "outputId": "064d2f80-1873-43a7-a28e-91a8d5fd6d38"
   },
   "outputs": [
    {
     "name": "stdout",
     "output_type": "stream",
     "text": [
      "Confidence Interval - (90%) : \n",
      "-4.64011521478194  < μ1 - μ2 <  58.35286246752919\n"
     ]
    }
   ],
   "source": [
    "sP = res[1] # Pooled Variance\n",
    "m_mean = abs(mean_1 - mean_2)\n",
    "\n",
    "temp = (1/(n1-1)) + (1/(n2-1))\n",
    "\n",
    "m_limit = t_tabulated_m * (sP * math.sqrt(temp))\n",
    "\n",
    "lower_limit = m_mean - limit\n",
    "upper_limit = m_mean + limit\n",
    "\n",
    "print(\"Confidence Interval - (90%) : \")\n",
    "\n",
    "print(lower_limit , \" < μ1 - μ2 < \" , upper_limit)"
   ]
  },
  {
   "cell_type": "code",
   "execution_count": null,
   "metadata": {
    "id": "Ghbq6BIlz88T"
   },
   "outputs": [],
   "source": []
  },
  {
   "cell_type": "markdown",
   "metadata": {
    "id": "DNf_8KpP0jCD"
   },
   "source": [
    "### Two Sample T-Test (Different population) :\n",
    "*(Two Samples are drawn from the different population)*\n",
    "\n",
    "Population : Birth Rate and Life expectancy\n",
    "\n",
    "H0 (Null Hypothesis) : The average  of both samples is same.\n",
    "\n",
    "H1 (Alternate Hypothesis) : The average  of both sample is not same."
   ]
  },
  {
   "cell_type": "markdown",
   "metadata": {
    "id": "5j190QN-0r1C"
   },
   "source": [
    "Defining Two Sample (*Different* Population) Z-Test function."
   ]
  },
  {
   "cell_type": "code",
   "execution_count": 31,
   "metadata": {
    "id": "f02ukLQY0kpU"
   },
   "outputs": [],
   "source": [
    "def two_sample_t_different_population(s_mean1, s_mean2, s_size1, s_size2, s_dev1, s_dev2):\n",
    "  temp1 = ((s_dev1)**2 / (s_size1 - 1))\n",
    "  temp2 = ((s_dev2)**2 / (s_size2 - 1))\n",
    "  den = math.sqrt(temp1 + temp2)\n",
    "  t_cal = abs(s_mean1 - s_mean2) / den\n",
    "  return [round(t_cal, 5), den]  # Round to 5 decimal places"
   ]
  },
  {
   "cell_type": "markdown",
   "metadata": {
    "id": "bSBGngjm07CY"
   },
   "source": [
    "Loading and storing the dataset and performing random sampling on it"
   ]
  },
  {
   "cell_type": "code",
   "execution_count": 32,
   "metadata": {
    "colab": {
     "base_uri": "https://localhost:8080/"
    },
    "id": "pCt277HV02LG",
    "outputId": "e6ac520e-f254-4b56-bf56-b6ce4b374741"
   },
   "outputs": [
    {
     "name": "stdout",
     "output_type": "stream",
     "text": [
      "\n",
      "Random Sample 1: (Birth)\n",
      "[14.88 41.54 32.86 13.99 32.66 29.08 41.18 17.02 24.56 23.55 11.3  35.74\n",
      " 10.9  33.69 18.18 35.13 18.78]\n",
      "\n",
      "Random Sample 2: (Life)\n",
      "[60.8 76.7 63.7 80.9 78.1 81.9 74.9 75.  60.4 70.5 71.8 73.8 64.7]\n"
     ]
    }
   ],
   "source": [
    "# file_path = '/content/dataset_bank.csv'\n",
    "data_m = pd.read_csv(file_path)\n",
    "\n",
    "alpha_m = 0.05 # Level of significance\n",
    "\n",
    "t_tabulated_m = 2.0484 # Z_tab @ alpha = 0.10 and one-tailed test @ dof =28\n",
    "\n",
    "birth_rate = data['Birth Rate']\n",
    "life_expectancy = data['Life expectancy']\n",
    "\n",
    "# Create two random samples with sizes greater than 30\n",
    "m_sample1 = np.random.choice(birth_rate, size=17, replace=False)\n",
    "m_sample2 = np.random.choice(life_expectancy, size=13, replace=False)\n",
    "\n",
    "# Display the two random samples\n",
    "print(\"\\nRandom Sample 1: (Birth)\")\n",
    "print(m_sample1)\n",
    "print(\"\\nRandom Sample 2: (Life)\")\n",
    "print(m_sample2)\n",
    "\n",
    "mean_1 = np.mean(m_sample1)\n",
    "mean_2 = np.mean(m_sample2)\n",
    "\n",
    "std_dev1 = np.std(msample1)\n",
    "std_dev2 = np.std(msample2)\n",
    "\n",
    "n1 = len(m_sample1)\n",
    "n2 = len(m_sample2)\n",
    "\n",
    "df = n1 + n2 - 2"
   ]
  },
  {
   "cell_type": "code",
   "execution_count": 33,
   "metadata": {
    "colab": {
     "base_uri": "https://localhost:8080/"
    },
    "id": "nVZvgoAX1Zbm",
    "outputId": "2f649277-af4b-41c7-9d14-ae9c92261313"
   },
   "outputs": [
    {
     "name": "stdout",
     "output_type": "stream",
     "text": [
      "T_Calculated Value :  2.06268\n",
      "T_Tabulated Value :  2.0484\n"
     ]
    }
   ],
   "source": [
    "t_res = two_sample_z_different_population(mean_1, mean_2, n1, n2, std_dev1, std_dev2)\n",
    "\n",
    "t_calculated_ms = t_res[0]\n",
    "\n",
    "print(\"T_Calculated Value : \", t_calculated_ms)\n",
    "\n",
    "print(\"T_Tabulated Value : \", t_tabulated_m)"
   ]
  },
  {
   "cell_type": "code",
   "execution_count": 34,
   "metadata": {
    "colab": {
     "base_uri": "https://localhost:8080/"
    },
    "id": "mGUoZAqo1ah_",
    "outputId": "4b8a239e-604d-45e4-b6a8-641dc254978c"
   },
   "outputs": [
    {
     "name": "stdout",
     "output_type": "stream",
     "text": [
      "Result :  Reject the null hypothesis (H0) (or) Accepting alternate hypothesis (H1)\n"
     ]
    }
   ],
   "source": [
    "# Perform the hypothesis test\n",
    "if abs(t_calculated_ms) >= t_tabulated_m:\n",
    "    result_ms = \"Reject the null hypothesis (H0) (or) Accepting alternate hypothesis (H1)\"\n",
    "else:\n",
    "    result_ms = \"Accept the null hypothesis (H0)\"\n",
    "\n",
    "print('Result : ' , result_ms)"
   ]
  },
  {
   "cell_type": "markdown",
   "metadata": {
    "id": "I6pG5tf91rup"
   },
   "source": [
    "Testing with the help of confidence interval!"
   ]
  },
  {
   "cell_type": "code",
   "execution_count": 35,
   "metadata": {
    "colab": {
     "base_uri": "https://localhost:8080/"
    },
    "id": "iVUwAwva1oYB",
    "outputId": "09b1ec1c-fb23-4a1c-e7ae-2bddb2a23065"
   },
   "outputs": [
    {
     "name": "stdout",
     "output_type": "stream",
     "text": [
      "Confidence Interval - (90%) : \n",
      "0.31981273564353074  < μ1 - μ2 <  92.06824156299899\n"
     ]
    }
   ],
   "source": [
    "tent = t_res[1]\n",
    "\n",
    "limit_ms = t_tabulated_m * (tent)\n",
    "\n",
    "ms_mean = abs(mean_1 - mean_2)\n",
    "\n",
    "lower_limit = ms_mean - limit_ms\n",
    "upper_limit = ms_mean + limit_ms\n",
    "\n",
    "print(\"Confidence Interval - (90%) : \")\n",
    "\n",
    "print(lower_limit , \" < μ1 - μ2 < \" , upper_limit)"
   ]
  },
  {
   "cell_type": "markdown",
   "metadata": {
    "id": "lNkOKPZgLyKn"
   },
   "source": [
    "### One Sample Proportion-Test (Unknown Variance) :\n",
    "\n",
    "H0 (Null Hypothesis) : The proportion of cpi is more than 0.40.\n",
    "\n",
    "H1 (Alternate Hypothesis) : The proportion of cpi is less than 0.40.\n"
   ]
  },
  {
   "cell_type": "markdown",
   "metadata": {
    "id": "lFlVf84VO79A"
   },
   "source": [
    "Seperating married clients and calculating necessary parameters!!"
   ]
  },
  {
   "cell_type": "code",
   "execution_count": 36,
   "metadata": {
    "colab": {
     "base_uri": "https://localhost:8080/"
    },
    "id": "pz09BacgMvpY",
    "outputId": "1afe792d-bbd3-4d04-a0de-74611f344a67"
   },
   "outputs": [
    {
     "name": "stdout",
     "output_type": "stream",
     "text": [
      "No of Entities :  84\n"
     ]
    }
   ],
   "source": [
    "# file_path = '/content/dataset_bank.csv'\n",
    "dataset = pd.read_csv(file_path)\n",
    "\n",
    "sample_size = 50\n",
    "\n",
    "sample = np.random.choice(data['CPI'], size=sample_size, replace=False)\n",
    "\n",
    "# Convert the sample to a Pandas DataFrame\n",
    "sample_df = pd.DataFrame({'CPI': sample})\n",
    "\n",
    "\n",
    "cpi = data['CPI']\n",
    "\n",
    "print(\"No of Entities : \", len(cpi))\n",
    "\n",
    "count_married = len(cpi)\n",
    "count_total = len(sample)\n"
   ]
  },
  {
   "cell_type": "markdown",
   "metadata": {
    "id": "VcIjJshVPBmo"
   },
   "source": [
    "Defining proportion one sample test function!!"
   ]
  },
  {
   "cell_type": "code",
   "execution_count": 37,
   "metadata": {
    "id": "nab_hbq7PFJn"
   },
   "outputs": [],
   "source": [
    "def calculate_z_proportion_one(p_sample,p_pop,s_size):\n",
    "    q_pop = 1 - p_pop\n",
    "    den = math.sqrt((p_pop * q_pop)/(s_size-1))\n",
    "    z_cal = abs(p_sample-p_pop) / den\n",
    "    return [round(z_cal, 5),den]"
   ]
  },
  {
   "cell_type": "markdown",
   "metadata": {
    "id": "tAeG-z_2RDpD"
   },
   "source": [
    "Calculating proportion parameters and testing the hypothesis!!"
   ]
  },
  {
   "cell_type": "code",
   "execution_count": 38,
   "metadata": {
    "colab": {
     "base_uri": "https://localhost:8080/"
    },
    "id": "EDvbOrA1ProK",
    "outputId": "8ccff0ee-6a97-455b-95c4-04b47a9a49f5"
   },
   "outputs": [
    {
     "name": "stdout",
     "output_type": "stream",
     "text": [
      "Z-Calculated :  18.28952\n",
      "Z-Tabulated :  1.645\n"
     ]
    }
   ],
   "source": [
    "p_sample = count_married / count_total\n",
    "p_pop = 0.40 # According to hypothesis\n",
    "\n",
    "z_tab = 1.645 # @ alpha = 0.05 and one-tailed test\n",
    "\n",
    "res = calculate_z_proportion_one(p_sample, p_pop, sample_size)\n",
    "\n",
    "z_calculated = res[0]\n",
    "\n",
    "den = res[1]\n",
    "\n",
    "print(\"Z-Calculated : \", z_calculated)\n",
    "print(\"Z-Tabulated : \", z_tab)"
   ]
  },
  {
   "cell_type": "code",
   "execution_count": 39,
   "metadata": {
    "colab": {
     "base_uri": "https://localhost:8080/"
    },
    "id": "CZXNJa5eSUUE",
    "outputId": "447147fb-1ad1-4d0a-ec2f-a691075ecd0a"
   },
   "outputs": [
    {
     "name": "stdout",
     "output_type": "stream",
     "text": [
      "Result :  Reject the null hypothesis (H0) (or) Accepting alternate hypothesis (H1)\n"
     ]
    }
   ],
   "source": [
    "# Perform the hypothesis test\n",
    "if abs(z_calculated) >= z_tab:\n",
    "    result = \"Reject the null hypothesis (H0) (or) Accepting alternate hypothesis (H1)\"\n",
    "else:\n",
    "    result = \"Accept the null hypothesis (H0)\"\n",
    "\n",
    "print('Result : ' , result)"
   ]
  },
  {
   "cell_type": "markdown",
   "metadata": {
    "id": "GjkAolPqSd4P"
   },
   "source": [
    "Testing using the confidence intervals!!"
   ]
  },
  {
   "cell_type": "code",
   "execution_count": 40,
   "metadata": {
    "colab": {
     "base_uri": "https://localhost:8080/"
    },
    "id": "bW3yaPSJSdQX",
    "outputId": "985c41b5-58a5-447c-a927-f3c3dce4e720"
   },
   "outputs": [
    {
     "name": "stdout",
     "output_type": "stream",
     "text": [
      "Confidence Interval - (95%) : \n",
      "1.5648739820891906  < p <  1.7951260179108093\n"
     ]
    }
   ],
   "source": [
    "limit = z_tab * (den)\n",
    "\n",
    "lower_limit = p_sample - limit\n",
    "upper_limit = p_sample + limit\n",
    "\n",
    "print(\"Confidence Interval - (95%) : \")\n",
    "\n",
    "print(lower_limit , \" < p < \" , upper_limit)"
   ]
  }
 ],
 "metadata": {
  "colab": {
   "collapsed_sections": [
    "FrnR1Ft8CQMu",
    "M3rqniDsSQd_",
    "Z71PRcL_aC9u",
    "-78drnHQ5e5l",
    "P2iqivuaByR3",
    "_LuWx0b_xOLs",
    "DNf_8KpP0jCD",
    "0wZsd_mIDbZP",
    "lNkOKPZgLyKn",
    "sjOVMb9XTKn7"
   ],
   "provenance": []
  },
  "kernelspec": {
   "display_name": "Python 3 (ipykernel)",
   "language": "python",
   "name": "python3"
  },
  "language_info": {
   "codemirror_mode": {
    "name": "ipython",
    "version": 3
   },
   "file_extension": ".py",
   "mimetype": "text/x-python",
   "name": "python",
   "nbconvert_exporter": "python",
   "pygments_lexer": "ipython3",
   "version": "3.10.11"
  }
 },
 "nbformat": 4,
 "nbformat_minor": 4
}
