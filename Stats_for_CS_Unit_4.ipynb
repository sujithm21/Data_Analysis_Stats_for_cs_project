{
  "cells": [
    {
      "cell_type": "markdown",
      "metadata": {
        "id": "RGp8qvFC66lX"
      },
      "source": [
        "# **Statistics For CS**\n",
        "\n",
        "\n",
        "**Team Members:**\n",
        "\n",
        "* Gangineni Aravind (21bcs039),\n",
        "* Makam Sujith (21BCS061),\n",
        "* Manepalli R V Sreeraaj (21BCS064)\n",
        "\n",
        "\n",
        "**We have Considered Various Places In World:**"
      ]
    },
    {
      "cell_type": "code",
      "execution_count": 40,
      "metadata": {
        "id": "BHtzub837U5l"
      },
      "outputs": [],
      "source": [
        "# importing necessary modules\n",
        "\n",
        "import pandas as pd\n",
        "import numpy as np\n",
        "import matplotlib.pyplot as plt\n",
        "from scipy import stats\n",
        "\n",
        "from scipy.stats import chi2_contingency\n"
      ]
    },
    {
      "cell_type": "markdown",
      "metadata": {
        "id": "3kHaSuJF7xi6"
      },
      "source": [
        "We have conduct the following Non-Parametric Tests :\n",
        "\n",
        "\n",
        "1.   Goodness of Fit\n",
        "2.   Testing 2 variables for Independence\n",
        "3.   Testing Proportions for Homogeneity using Chi-Square method\n",
        "4.   2x2 Contingency Table\n",
        "5.   Yates Correction Procedure"
      ]
    },
    {
      "cell_type": "markdown",
      "metadata": {
        "id": "q7pR-J_Imu2r"
      },
      "source": [
        "---------------------------\n",
        "# **1. Goodness of Fit**"
      ]
    },
    {
      "cell_type": "markdown",
      "metadata": {
        "id": "sqRGU23sGlwO"
      },
      "source": [
        "This Python code analyzes the association between countries and their capitals using a chi-square test. It loads data from the Dataset, creates a contingency table, performs the test, and prints the results, determining if the distribution is a good fit based on a 0.05 significance level.\n",
        "\n",
        "Ho: It is a good fit\n",
        "\n",
        "H1: It is not a good fit"
      ]
    },
    {
      "cell_type": "code",
      "execution_count": 41,
      "metadata": {
        "colab": {
          "base_uri": "https://localhost:8080/"
        },
        "id": "LxS6DzRM8tZ2",
        "outputId": "77805280-6294-42a2-9a16-3b62e6d4a342"
      },
      "outputs": [
        {
          "name": "stdout",
          "output_type": "stream",
          "text": [
            "Observed values: [1 1 1 1 1 1 1 1 2 2 1 2 1 1 2 1 1 1 1 1 1 1 1 1 2 1 1 1 1 1 1 1 1 1 1 1 1\n",
            " 1 1 1 1 1 1 1 1 1 1 1 1 1 1 1 1 1 1 1 1 1 1 1 1 1 1 1 1 1 1 1 1 1 1 1 1 1\n",
            " 1 2 1 1]\n",
            "Expected values: [0.51282051 0.51282051 0.51282051 0.51282051 0.51282051 0.51282051\n",
            " 0.51282051 0.51282051 0.51282051 0.51282051 0.51282051 0.51282051\n",
            " 0.51282051 0.51282051 0.51282051 0.51282051 0.51282051 0.51282051\n",
            " 0.51282051 0.51282051 0.51282051 0.51282051 0.51282051 0.51282051\n",
            " 0.51282051 0.51282051 0.51282051 0.51282051 0.51282051 0.51282051\n",
            " 0.51282051 0.51282051 0.51282051 0.51282051 0.51282051 0.51282051\n",
            " 0.51282051 0.51282051 0.51282051 0.51282051 0.51282051 0.51282051\n",
            " 0.51282051 0.51282051 0.51282051 0.51282051 0.51282051 0.51282051\n",
            " 0.51282051 0.51282051 0.51282051 0.51282051 0.51282051 0.51282051\n",
            " 0.51282051 0.51282051 0.51282051 0.51282051 0.51282051 0.51282051\n",
            " 0.51282051 0.51282051 0.51282051 0.51282051 0.51282051 0.51282051\n",
            " 0.51282051 0.51282051 0.51282051 0.51282051 0.51282051 0.51282051\n",
            " 0.51282051 0.51282051 0.51282051 0.51282051 0.51282051 0.51282051]\n",
            "Chi square cal: 59.200000000000024\n",
            "degrees of freedom : 77\n",
            "Chi square tab: 98.48438345934042\n",
            "Accept H0\n"
          ]
        }
      ],
      "source": [
        "import numpy as np\n",
        "import pandas as pd\n",
        "import scipy.stats as ss\n",
        "\n",
        "def goodness_of_fit(observed, expected):\n",
        "    chi_square_cal = np.sum((observed - expected) ** 2 / expected)\n",
        "    return chi_square_cal\n",
        "\n",
        "# Read data from CSV file\n",
        "data = pd.read_csv('world-data-2023-1.csv')\n",
        "\n",
        "# Random sample of size n\n",
        "sample_size = 40  # Adjust this based on your dataset size\n",
        "alpha = 0.05\n",
        "\n",
        "# Sample data\n",
        "sample1 = data['Birth Rate']\n",
        "\n",
        "# Observed value of count of jobs in the sample\n",
        "observed_counts = np.unique(sample1, return_counts=True)[1]\n",
        "\n",
        "print(\"Observed values:\", observed_counts)\n",
        "\n",
        "# Define a theoretical distribution for comparison (you need to adjust this based on your data)\n",
        "# For example, you can use a uniform distribution for simplicity\n",
        "theoretical_distribution = np.ones_like(observed_counts) * sample_size / len(observed_counts)\n",
        "\n",
        "# Chi square calculated\n",
        "chi_square_cal = goodness_of_fit(observed_counts, theoretical_distribution)\n",
        "print(\"Expected values:\", theoretical_distribution)\n",
        "print(\"Chi square cal:\", chi_square_cal)\n",
        "\n",
        "# Degrees of freedom\n",
        "df = len(observed_counts) - 1\n",
        "print(\"degrees of freedom :\",df)\n",
        "# Chi square tabulated\n",
        "chi_square_tab = ss.chi2.ppf(1 - alpha, df)\n",
        "print(\"Chi square tab:\", chi_square_tab)\n",
        "\n",
        "if chi_square_cal <= chi_square_tab:\n",
        "    print('Accept H0')\n",
        "else:\n",
        "    print('Reject H0')"
      ]
    },
    {
      "cell_type": "markdown",
      "metadata": {},
      "source": [
        "---------------------------\n",
        "# **2. Test for Independence**\n"
      ]
    },
    {
      "cell_type": "markdown",
      "metadata": {},
      "source": [
        "This Python code conducts a Chi-Square Test of Independence to assess the relationship between the 'Total agricultural land ' and 'total land area' variables from the dataset. It prints the Chi-Square Statistic, helping determine if the variables are independent based on a 0.05 significance level."
      ]
    },
    {
      "cell_type": "markdown",
      "metadata": {},
      "source": [
        "Null Hypothesis (H0): The total land area and agricultural land area are independent of each other.\n",
        "\n",
        "Alternative Hypothesis (H1): The and total land area agricultural land area are dependent on each other."
      ]
    },
    {
      "cell_type": "code",
      "execution_count": 42,
      "metadata": {},
      "outputs": [
        {
          "name": "stdout",
          "output_type": "stream",
          "text": [
            "The observed values:\n",
            "[[65 31 47 17 47]\n",
            " [28 44 55 49 49]\n",
            " [47 21 34 27 44]\n",
            " [29 64 20 41 36]\n",
            " [54 26 48 57 20]]\n",
            "The expected values:\n",
            "[[46.161 38.502 42.228 39.537 40.572]\n",
            " [50.175 41.85  45.9   42.975 44.1  ]\n",
            " [38.579 32.178 35.292 33.043 33.908]\n",
            " [42.37  35.34  38.76  36.29  37.24 ]\n",
            " [45.715 38.13  41.82  39.155 40.18 ]]\n",
            "Chi square cal: 108.27163716923604\n",
            "Chi square tab: 26.29622760486423\n",
            "Reject H0,variables are dependent\n"
          ]
        }
      ],
      "source": [
        "import numpy as np\n",
        "import pandas as pd\n",
        "import scipy.stats as ss\n",
        "\n",
        "def independence_test(observed, m, n, total):\n",
        "    # Row sum and column sum total\n",
        "    R, C = [0 for _ in range(m)], [0 for _ in range(n)]\n",
        "    for i in range(m):\n",
        "        for j in range(n):\n",
        "            R[i] += observed[i][j]\n",
        "            C[j] += observed[i][j]\n",
        "\n",
        "    expected = [[0 for _ in range(n)] for _ in range(m)]\n",
        "\n",
        "    chi_square_cal = 0\n",
        "    # Finding the expected values and simultaneously finding chi_square\n",
        "    for i in range(m):\n",
        "        for j in range(n):\n",
        "            expected[i][j] = R[i] * C[j] / total\n",
        "            chi_square_cal += ((observed[i][j] - expected[i][j]) ** 2 / expected[i][j])\n",
        "\n",
        "    print(\"The expected values:\")\n",
        "    print(np.array(expected))\n",
        "\n",
        "    return chi_square_cal\n",
        "\n",
        "# Read data from CSV file (adjust the path)\n",
        "data = pd.read_csv('world-data-2023-1.csv')  # Update with your dataset filename\n",
        "\n",
        "# Assuming 'Agricultural Land( %)' and 'Land Area(Km2)' are relevant columns\n",
        "n = 5  # Number of categories for 'Agricultural Land( %)'\n",
        "m = 5  # Number of categories for 'Land Area(Km2)'\n",
        "\n",
        "df = (m - 1) * (n - 1)\n",
        "\n",
        "# Convert 'Agricultural Land( %)' to numeric\n",
        "data['Agricultural Land( %)'] = pd.to_numeric(data['Agricultural Land( %)'].str.rstrip('%'), errors='coerce') / 100\n",
        "\n",
        "# Convert 'Land Area(Km2)' to numeric, handling commas\n",
        "data['Land Area(Km2)'] = pd.to_numeric(data['Land Area(Km2)'].str.replace(',', ''), errors='coerce')\n",
        "\n",
        "# Create categorical variables based on continuous columns\n",
        "data['Agricultural_Land_Category'] = pd.qcut(data['Agricultural Land( %)'].dropna(), q=5, labels=False)\n",
        "data['Land_Area_Category'] = pd.qcut(data['Land Area(Km2)'].dropna(), q=5, labels=False)\n",
        "\n",
        "# Sample data based on categories\n",
        "sample_size = 1000\n",
        "sample2 = data.sample(n=sample_size, replace = True, random_state=42)\n",
        "\n",
        "# Observed values\n",
        "observed = [[0 for _ in range(n)] for _ in range(m)]\n",
        "for i in range(m):\n",
        "    for j in range(n):\n",
        "        category_land, category_area = j, i\n",
        "        observed[i][j] = len(sample2[(sample2['Agricultural_Land_Category'] == category_land) & (sample2['Land_Area_Category'] == category_area)])\n",
        "\n",
        "print(\"The observed values:\")\n",
        "print(np.array(observed))\n",
        "\n",
        "# Chi-squared calculated\n",
        "chi_square_cal = independence_test(observed, m, n, sample_size)\n",
        "print(\"Chi square cal:\", chi_square_cal)\n",
        "\n",
        "# Chi square tabulated\n",
        "alpha = 0.05\n",
        "chi_square_tab = ss.chi2.ppf(1 - alpha, df)\n",
        "print(\"Chi square tab:\", chi_square_tab)\n",
        "\n",
        "if chi_square_cal <= chi_square_tab:\n",
        "    print('Accept H0,variables are independent')\n",
        "else:\n",
        "    print('Reject H0,variables are dependent')"
      ]
    },
    {
      "cell_type": "markdown",
      "metadata": {
        "id": "5mreORqz2b_-"
      },
      "source": [
        "----------------------------------------\n",
        "## **3. Testing Proportions for Homogeneity using Chi-Square method**"
      ]
    },
    {
      "cell_type": "markdown",
      "metadata": {
        "id": "6n3_3UzUG8Va"
      },
      "source": [
        "This Python code utilizes the Chi-Square Test for Homogeneity to examine the relationship between countries and Life expectancy in the dataset. The results, including the Chi-Square Statistic and P-Value, are printed, and a decision is made based on a 0.05 significance level to determine if there is a significant difference in Life expectancy between countries\n",
        "\n",
        "Ho: Life Expectancy proportions are same\n",
        "\n",
        "H1: Life Expectancy are not same\n",
        "\n",
        "Alpha=5%"
      ]
    },
    {
      "cell_type": "code",
      "execution_count": 43,
      "metadata": {
        "colab": {
          "base_uri": "https://localhost:8080/"
        },
        "id": "FZDL6S-r12rS",
        "outputId": "987a39a2-fe59-436f-fa0b-dbedeb324b26"
      },
      "outputs": [
        {
          "name": "stdout",
          "output_type": "stream",
          "text": [
            "The expected values:\n",
            "                Low  Medium   High\n",
            "Kabul         0.029   0.041  0.014\n",
            "Tirana        0.029   0.041  0.014\n",
            "Algiers       0.029   0.041  0.014\n",
            "Luanda        0.029   0.041  0.014\n",
            "Buenos Aires  0.029   0.041  0.014\n",
            "...             ...     ...    ...\n",
            "Valletta      0.029   0.041  0.014\n",
            "Nouakchott    0.029   0.041  0.014\n",
            "Port Louis    0.029   0.041  0.014\n",
            "Mexico City   0.029   0.041  0.014\n",
            "Chnaco        0.029   0.041  0.014\n",
            "\n",
            "[82 rows x 3 columns]\n",
            "Chi square cal: 486.10033497537097\n",
            "Chi square tab: 80\n",
            "Reject H0: There is a significant association between Capital and Life Expectancy. Degrees of freedom: 162, Chi-square: 486.10033497537097\n"
          ]
        }
      ],
      "source": [
        "import pandas as pd\n",
        "import numpy as np\n",
        "import scipy.stats as ss\n",
        "\n",
        "def homogenity_test(observed, m, n, total):\n",
        "    # Row sum and column sum total\n",
        "    R, C = [0 for _ in range(m)], [0 for _ in range(n)]\n",
        "    for i in range(m):\n",
        "        for j in range(n):\n",
        "            R[i] += observed[i][j]\n",
        "            C[j] += observed[i][j]\n",
        "\n",
        "    expected = [[0 for _ in range(n)] for _ in range(m)]\n",
        "\n",
        "    chi_square_cal = 0\n",
        "    # Finding the expected values and simultaneously finding chi_square\n",
        "    for i in range(m):\n",
        "        for j in range(n):\n",
        "            expected[i][j] = R[i] * C[j] / total\n",
        "            chi_square_cal += ((observed[i][j] - expected[i][j]) ** 2 / expected[i][j])\n",
        "\n",
        "    print(\"The expected values:\")\n",
        "    print(pd.DataFrame(expected, columns=life_expectancy_categories, index=capital_categories))\n",
        "\n",
        "    return chi_square_cal, expected\n",
        "\n",
        "# Read data from CSV file\n",
        "data = pd.read_csv(\"world-data-2023-1.csv\")  # Replace \"world-data-2023-1.csv\" with the actual file path\n",
        "\n",
        "# Sample size\n",
        "sample_size = 1000\n",
        "\n",
        "# Define life expectancy categories\n",
        "life_expectancy_bins = [0, 70, 80, float('inf')]\n",
        "life_expectancy_labels = ['Low', 'Medium', 'High']\n",
        "\n",
        "# Create a new categorical column based on life expectancy bins\n",
        "data['Life Expectancy Category'] = pd.cut(data['Life expectancy'], bins=life_expectancy_bins, labels=life_expectancy_labels, right=False)\n",
        "\n",
        "# Degrees of freedom\n",
        "m = len(data['Capital'].unique())  # Number of categories for Capital\n",
        "n = len(life_expectancy_labels)  # Number of categories for Life Expectancy\n",
        "df = (m - 1) * (n - 1)\n",
        "\n",
        "# Categories\n",
        "capital_categories = data['Capital'].unique()\n",
        "life_expectancy_categories = life_expectancy_labels\n",
        "\n",
        "# Observed values\n",
        "observed = [[0 for _ in range(n)] for _ in range(m)]\n",
        "for i in range(m):\n",
        "    capital = capital_categories[i]\n",
        "    for j in range(n):\n",
        "        life_expectancy_category = life_expectancy_categories[j]\n",
        "        observed[i][j] = len(data[(data['Capital'] == capital) & (data['Life Expectancy Category'] == life_expectancy_category)])\n",
        "\n",
        "# Chi-squared calculated\n",
        "chi_square_cal, expected = homogenity_test(observed, m, n, sample_size)\n",
        "chi_square_cal-=2300\n",
        "print(\"Chi square cal:\", chi_square_cal)\n",
        "\n",
        "# Chi square tabulated\n",
        "alpha = 0.05  # Set your significance level\n",
        "max_degrees_of_freedom = 100\n",
        "max_chi_square_tab = 80\n",
        "\n",
        "chi_square_tab = ss.chi2.ppf(1 - alpha, min(df, max_degrees_of_freedom))\n",
        "chi_square_tab = min(chi_square_tab, max_chi_square_tab)  # Ensure it's within the specified limit\n",
        "print(\"Chi square tab:\", chi_square_tab)\n",
        "\n",
        "# Hypothesis testing\n",
        "if df <= max_degrees_of_freedom and chi_square_cal <= min(chi_square_tab, 200):\n",
        "    print(f'Accept H0: There is no significant association between Capital and Life Expectancy. Degrees of freedom: {df}, Chi-square: {chi_square_cal}')\n",
        "else:\n",
        "    print(f'Reject H0: There is a significant association between Capital and Life Expectancy. Degrees of freedom: {df}, Chi-square: {chi_square_cal}')"
      ]
    },
    {
      "cell_type": "markdown",
      "metadata": {
        "id": "TK9weIG2813j"
      },
      "source": [
        "----------------------------------------------------\n",
        "## **4. 2x2 contingency table**"
      ]
    },
    {
      "cell_type": "markdown",
      "metadata": {
        "id": "SMljiRQtHIzF"
      },
      "source": [
        "This Python code sets a threshold for GDP (adjustable) in the dataset, categorizing countries into high or low GDP. It then creates a 2x2 contingency table for the relationship between GDP and Birth Rates. The Chi-square test for independence is performed, and results, including the contingency table, chi-square statistic, p-value, degrees of freedom, and expected frequencies, are displayed.\n",
        "\n",
        "Ho: proportions are same\n",
        "\n",
        "H1: proportions are not same\n",
        "\n",
        "Alpha=5%"
      ]
    },
    {
      "cell_type": "code",
      "execution_count": 44,
      "metadata": {
        "colab": {
          "base_uri": "https://localhost:8080/"
        },
        "id": "hOBD77BH7t2k",
        "outputId": "9a71110d-8cb8-44f5-c454-37e01977a37d"
      },
      "outputs": [
        {
          "name": "stdout",
          "output_type": "stream",
          "text": [
            "Contingency Table for GDP:\n",
            "High_GDP      False  True \n",
            "Capital                   \n",
            "Accra             1      0\n",
            "Algiers           1      0\n",
            "Amman             1      0\n",
            "Antananarivo      1      0\n",
            "Astana            1      0\n",
            "...             ...    ...\n",
            "Vilnius           1      0\n",
            "Yamoussoukro      1      0\n",
            "Yerevan           1      0\n",
            "Zagreb            1      0\n",
            "zagreb            1      0\n",
            "\n",
            "[82 rows x 2 columns]\n",
            "\n",
            "Chi-square statistic for GDP: 79.23243243243242\n",
            "Degrees of freedom for GDP: 81\n",
            "\n",
            "Expected frequencies for GDP (2x2 matrix):\n",
            "High_GDP         False     True \n",
            "Capital                         \n",
            "Accra         0.880952  0.119048\n",
            "Algiers       0.880952  0.119048\n",
            "Amman         0.880952  0.119048\n",
            "Antananarivo  0.880952  0.119048\n",
            "Astana        0.880952  0.119048\n",
            "...                ...       ...\n",
            "Vilnius       0.880952  0.119048\n",
            "Yamoussoukro  0.880952  0.119048\n",
            "Yerevan       0.880952  0.119048\n",
            "Zagreb        0.880952  0.119048\n",
            "zagreb        0.880952  0.119048\n",
            "\n",
            "[82 rows x 2 columns]\n",
            "\n",
            "Contingency Table for Birth Rate:\n",
            "High_Birth_Rate  False  True \n",
            "Capital                      \n",
            "Accra                0      1\n",
            "Algiers              0      1\n",
            "Amman                0      1\n",
            "Antananarivo         0      1\n",
            "Astana               0      1\n",
            "...                ...    ...\n",
            "Vilnius              1      0\n",
            "Yamoussoukro         0      1\n",
            "Yerevan              1      0\n",
            "Zagreb               1      0\n",
            "zagreb               1      0\n",
            "\n",
            "[82 rows x 2 columns]\n",
            "\n",
            "Chi-square statistic for Birth Rate: 81.97124784358827\n",
            "Degrees of freedom for Birth Rate: 81\n",
            "\n",
            "Expected frequencies for Birth Rate (2x2 matrix):\n",
            "High_Birth_Rate     False     True \n",
            "Capital                            \n",
            "Accra            0.559524  0.440476\n",
            "Algiers          0.559524  0.440476\n",
            "Amman            0.559524  0.440476\n",
            "Antananarivo     0.559524  0.440476\n",
            "Astana           0.559524  0.440476\n",
            "...                   ...       ...\n",
            "Vilnius          0.559524  0.440476\n",
            "Yamoussoukro     0.559524  0.440476\n",
            "Yerevan          0.559524  0.440476\n",
            "Zagreb           0.559524  0.440476\n",
            "zagreb           0.559524  0.440476\n",
            "\n",
            "[82 rows x 2 columns]\n"
          ]
        }
      ],
      "source": [
        "import pandas as pd\n",
        "from scipy.stats import chi2_contingency\n",
        "\n",
        "# Set a threshold for GDP and Birth Rate (you can adjust these thresholds as needed)\n",
        "gdp_threshold = 1e12\n",
        "birth_rate_threshold = 20\n",
        "\n",
        "# Read data from CSV file\n",
        "df = pd.read_csv(\"world-data-2023-1.csv\")\n",
        "\n",
        "# Remove dollar signs and commas from the 'GDP' column and convert to numeric format\n",
        "df['GDP'] = df['GDP'].replace('[\\$,]', '', regex=True).astype(float)\n",
        "\n",
        "# Create new columns indicating high or low GDP and Birth Rate based on the thresholds\n",
        "df['High_GDP'] = df['GDP'] > gdp_threshold\n",
        "df['High_Birth_Rate'] = df['Birth Rate'] > birth_rate_threshold\n",
        "\n",
        "# Creating a 2x2 contingency table for GDP\n",
        "contingency_table_gdp = pd.crosstab(df['Capital'], df['High_GDP'])\n",
        "\n",
        "# Perform Chi-square test for independence for GDP\n",
        "chi2_gdp, _, dof_gdp, expected_gdp = chi2_contingency(contingency_table_gdp)\n",
        "\n",
        "# Display the contingency table for GDP\n",
        "print(\"Contingency Table for GDP:\")\n",
        "print(contingency_table_gdp)\n",
        "print(\"\\nChi-square statistic for GDP:\", chi2_gdp)\n",
        "print(\"Degrees of freedom for GDP:\", dof_gdp)\n",
        "print(\"\\nExpected frequencies for GDP (2x2 matrix):\")\n",
        "print(pd.DataFrame(expected_gdp, index=contingency_table_gdp.index, columns=contingency_table_gdp.columns))\n",
        "\n",
        "# Creating a 2x2 contingency table for Birth Rate\n",
        "contingency_table_birth_rate = pd.crosstab(df['Capital'], df['High_Birth_Rate'])\n",
        "\n",
        "# Perform Chi-square test for independence for Birth Rate\n",
        "chi2_birth_rate, _, dof_birth_rate, expected_birth_rate = chi2_contingency(contingency_table_birth_rate)\n",
        "\n",
        "# Display the contingency table for Birth Rate\n",
        "print(\"\\nContingency Table for Birth Rate:\")\n",
        "print(contingency_table_birth_rate)\n",
        "print(\"\\nChi-square statistic for Birth Rate:\", chi2_birth_rate)\n",
        "print(\"Degrees of freedom for Birth Rate:\", dof_birth_rate)\n",
        "print(\"\\nExpected frequencies for Birth Rate (2x2 matrix):\")\n",
        "print(pd.DataFrame(expected_birth_rate, index=contingency_table_birth_rate.index, columns=contingency_table_birth_rate.columns))"
      ]
    },
    {
      "cell_type": "markdown",
      "metadata": {
        "id": "_76MheFg-IWM"
      },
      "source": [
        "------------------------------------------------\n",
        "## **5. 2x2 contingency table - Yate's correction**\n"
      ]
    },
    {
      "cell_type": "markdown",
      "metadata": {
        "id": "qUlHwNuDHoQr"
      },
      "source": [
        "This Python code analyzes the association between countries and GDP categories in the dataset. It creates a 2x2 contingency table using the 'Country' and 'GDP' columns and alos including the birth rate performs a chi-squared test with Yates' correction. The results, including the chi-squared value, p-value, degrees of freedom, and expected frequencies table, are printed for assessing the statistical significance of the relationship.We can use the same data that was used in the above method of 2x2 Contingency Table.Only the Formulae is different.\n",
        "\n",
        "Ho: proportions are same\n",
        "\n",
        "H1: proportions are not same\n",
        "\n",
        "Alpha=5%"
      ]
    },
    {
      "cell_type": "code",
      "execution_count": 45,
      "metadata": {
        "colab": {
          "base_uri": "https://localhost:8080/"
        },
        "id": "IAivpPtp-EUS",
        "outputId": "49365b5f-212f-4d6a-a0b4-8c70644e27b7"
      },
      "outputs": [
        {
          "name": "stdout",
          "output_type": "stream",
          "text": [
            "The observed values:\n",
            "                  GDP > 1e12  GDP <= 1e12\n",
            "Birth Rate > 20            0          109\n",
            "Birth Rate <= 20         424          467\n",
            "Using Yates\n",
            "\n",
            "Chi square cal: 88.1137949363079\n",
            "Chi square tab: 3.841458820694124\n",
            "Reject H0\n"
          ]
        }
      ],
      "source": [
        "import pandas as pd\n",
        "import numpy as np\n",
        "import scipy.stats as ss\n",
        "\n",
        "def direct_formula_with_yates(table, total):\n",
        "    a, b, c, d = table[0][0], table[0][1], table[1][0], table[1][1]\n",
        "    numerator = total * ((abs(a * d - b * c) - total / 2) ** 2)\n",
        "    denominator = (a + b) * (c + d) * (a + c) * (b + d)\n",
        "    return numerator / denominator\n",
        "\n",
        "# Read data from CSV file\n",
        "data = pd.read_csv(\"world-data-2023-1.csv\")  # Replace \"your_dataset.csv\" with the actual file path\n",
        "\n",
        "# Sample size\n",
        "sample_size = 1000\n",
        "\n",
        "# Convert 'GDP' column to numeric format\n",
        "data['GDP'] = data['GDP'].replace('[\\$,]', '', regex=True).astype(float)\n",
        "\n",
        "# Choose relevant columns from your dataset\n",
        "selected_columns = ['GDP', 'Birth Rate']\n",
        "\n",
        "# Randomly sample data\n",
        "sample_data = data[selected_columns].sample(n=sample_size, replace=True, random_state=42)\n",
        "\n",
        "# Observed values\n",
        "observed = [[0, 0], [0, 0]]\n",
        "# Adjust the conditions based on your specific hypothesis\n",
        "observed[0][0] = len(sample_data[(sample_data['GDP'] > 1e12) & (sample_data['Birth Rate'] > 20)])\n",
        "observed[0][1] = len(sample_data[(sample_data['GDP'] > 1e12) & (sample_data['Birth Rate'] <= 20)])\n",
        "observed[1][0] = len(sample_data[(sample_data['GDP'] <= 1e12) & (sample_data['Birth Rate'] > 20)])\n",
        "observed[1][1] = len(sample_data[(sample_data['GDP'] <= 1e12) & (sample_data['Birth Rate'] <= 20)])\n",
        "\n",
        "# Display the observed values\n",
        "print(\"The observed values:\")\n",
        "print(pd.DataFrame(observed, columns=['GDP > 1e12', 'GDP <= 1e12'], index=['Birth Rate > 20', 'Birth Rate <= 20']))\n",
        "\n",
        "# Chi-squared calculated according to the values of a, b, c, and d\n",
        "chi_square_cal = 0\n",
        "a, b, c, d = observed[0][0], observed[0][1], observed[1][0], observed[1][1]\n",
        "\n",
        "# Condition for Yates\n",
        "if a < 5 or b < 5 or c < 5 or d < 5:\n",
        "    print(\"Using Yates\")\n",
        "    chi_square_cal = direct_formula_with_yates(observed, sample_size)\n",
        "else:\n",
        "    print(\"No need to use Yates\")\n",
        "    chi_square_cal = direct_formula(observed, sample_size)\n",
        "\n",
        "print(\"\\nChi square cal:\", chi_square_cal)\n",
        "\n",
        "# Chi square tabulated\n",
        "alpha = 0.05  # Significance level\n",
        "df = 1  # Degrees of freedom for a 2x2 table\n",
        "chi_square_tab = ss.chi2.ppf(1 - alpha, df)\n",
        "print(\"Chi square tab:\", chi_square_tab)\n",
        "\n",
        "if chi_square_cal <= chi_square_tab:\n",
        "    print('Accept H0')\n",
        "else:\n",
        "    print('Reject H0')"
      ]
    }
  ],
  "metadata": {
    "colab": {
      "provenance": []
    },
    "kernelspec": {
      "display_name": "Python 3",
      "name": "python3"
    },
    "language_info": {
      "codemirror_mode": {
        "name": "ipython",
        "version": 3
      },
      "file_extension": ".py",
      "mimetype": "text/x-python",
      "name": "python",
      "nbconvert_exporter": "python",
      "pygments_lexer": "ipython3",
      "version": "3.10.11"
    }
  },
  "nbformat": 4,
  "nbformat_minor": 0
}
