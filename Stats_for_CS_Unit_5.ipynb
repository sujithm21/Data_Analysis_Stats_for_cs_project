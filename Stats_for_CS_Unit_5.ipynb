{
  "cells": [
    {
      "cell_type": "markdown",
      "metadata": {},
      "source": [
        "# **Statistics For CS**\n",
        "\n",
        "\n",
        "**Team Members:**\n",
        "\n",
        "* Gangineni Aravind (21bcs039),\n",
        "* Makam Sujith (21BCS061),\n",
        "* Manepalli R V Sreeraaj (21BCS064)\n",
        "\n",
        "\n",
        "**We have Considered Various Places In World:**"
      ]
    },
    {
      "cell_type": "markdown",
      "metadata": {
        "id": "igOwwfMvxfON"
      },
      "source": [
        "ESTIMATION OF SAMPLE SIZE"
      ]
    },
    {
      "cell_type": "code",
      "execution_count": 13,
      "metadata": {
        "id": "xvs9A9oPqJPQ"
      },
      "outputs": [],
      "source": [
        "import pandas as pd\n",
        "import scipy.stats\n",
        "import random\n",
        "import matplotlib.pyplot as plt\n",
        "import seaborn as sns"
      ]
    },
    {
      "cell_type": "markdown",
      "metadata": {},
      "source": [
        "## 1. Sample size formulae: One sample"
      ]
    },
    {
      "cell_type": "markdown",
      "metadata": {},
      "source": []
    },
    {
      "cell_type": "code",
      "execution_count": 14,
      "metadata": {},
      "outputs": [],
      "source": [
        "df = pd.read_csv(\"world-data-2023-1.csv\")"
      ]
    },
    {
      "cell_type": "markdown",
      "metadata": {},
      "source": [
        "n = (z * s / d)**2\n",
        "\n",
        "where:\n",
        "\n",
        "- \\( n \\) is the sample size,\n",
        "- \\( z \\) is the confidence interval in standard error units,\n",
        "- \\( s \\) is the standard error of the mean,\n",
        "- \\( d \\) is the acceptable magnitude of error.\n"
      ]
    },
    {
      "cell_type": "markdown",
      "metadata": {},
      "source": [
        "This Python function, \"calculate_sample_size\" , computes the required sample size for estimating a population mean with a specified margin of error. The example uses a 95% confidence level (Z-score of 1.96), a population standard deviation obtained from the 'Life expectancy' column in the dataset ('df'), and a margin of error of 0.25. The resulting sample size is then printed."
      ]
    },
    {
      "cell_type": "code",
      "execution_count": 15,
      "metadata": {
        "colab": {
          "base_uri": "https://localhost:8080/"
        },
        "id": "HstmF-07rRPM",
        "outputId": "090035e0-93af-4316-cbf8-cc8d3552fc93"
      },
      "outputs": [
        {
          "name": "stdout",
          "output_type": "stream",
          "text": [
            "Dataset: world-data-2023-1.csv\n",
            "Variable of Interest: Life expectancy\n",
            "\n",
            "Calculated Sample Size (n):\n",
            " - Sample Size: 3905\n",
            "\n",
            "Respective Tabulated Value:\n",
            " - Z-score for 95.0% Confidence: 1.959963984540054\n",
            "\n",
            "Conclusion:\n",
            "The calculated sample size is equal to or greater than the tabulated value.\n",
            "The statement is accepted.\n"
          ]
        }
      ],
      "source": [
        "import math\n",
        "import pandas as pd\n",
        "from scipy.stats import norm\n",
        "\n",
        "def calculate_sample_size(z, sigma, d):\n",
        "    n = math.ceil((z * sigma / d) ** 2)\n",
        "    return n\n",
        "\n",
        "# Load your dataset from the CSV file\n",
        "file_path = 'world-data-2023-1.csv'  # Replace with the actual file path\n",
        "df = pd.read_csv(file_path)\n",
        "\n",
        "# Given information\n",
        "confidence_level = 0.95  # 95% confidence level\n",
        "z_score = 1.96  # Z-score for 95% confidence level\n",
        "variable_of_interest = 'Life expectancy'\n",
        "population_std_dev = df[variable_of_interest].std()  # Population standard deviation (assumed value for the example)\n",
        "margin_of_error = 0.25  # Margin of error\n",
        "\n",
        "# Calculate sample size\n",
        "sample_size = calculate_sample_size(z_score, population_std_dev, margin_of_error)\n",
        "\n",
        "# Calculate the respective tabulated value based on the calculated sample size\n",
        "alpha = 1 - confidence_level\n",
        "tabulated_value = norm.ppf(1 - alpha / 2)\n",
        "\n",
        "# Output details\n",
        "print(f\"Dataset: {file_path}\")\n",
        "print(f\"Variable of Interest: {variable_of_interest}\")\n",
        "print(\"\\nCalculated Sample Size (n):\")\n",
        "print(f\" - Sample Size: {sample_size}\")\n",
        "\n",
        "# Tabulated Value\n",
        "print(f\"\\nRespective Tabulated Value:\")\n",
        "print(f\" - Z-score for {confidence_level * 100}% Confidence: {tabulated_value}\")\n",
        "\n",
        "# Conclusion\n",
        "if sample_size >= tabulated_value:\n",
        "    print(\"\\nConclusion:\")\n",
        "    print(\"The calculated sample size is equal to or greater than the tabulated value.\")\n",
        "    print(\"The statement is accepted.\")\n",
        "else:\n",
        "    print(\"\\nConclusion:\")\n",
        "    print(\"The calculated sample size is less than the tabulated value.\")\n",
        "    print(\"Consider revisiting the assumptions or adjusting the desired margin of error.\")\n"
      ]
    },
    {
      "cell_type": "markdown",
      "metadata": {
        "id": "x235nyEt2QNq"
      },
      "source": [
        "## 2.Sample Size for a Proportion"
      ]
    },
    {
      "cell_type": "markdown",
      "metadata": {
        "id": "PSsxSHgU2bYs"
      },
      "source": [
        "n= (Z**2) (p) (1-p) / (E**2)\n",
        "\n",
        "where:\n",
        "\n",
        "- \\( n \\) is the number of items in the sample,\n",
        "- \\( Z^2 \\) is the square of the confidence interval in standard error units,\n",
        "- \\( p \\) is the estimated proportion of success,\n",
        "- \\( (1 - p) \\) or \\( q \\) is the estimated proportion of failures,\n",
        "- \\( E^2 \\) is the square of the maximum allowance for error between the true proportion and the sample proportion (or \\( z_{sp}^2 \\)).\n"
      ]
    },
    {
      "cell_type": "code",
      "execution_count": 16,
      "metadata": {
        "colab": {
          "base_uri": "https://localhost:8080/"
        },
        "id": "08LbeOXBrzxv",
        "outputId": "8f11cec1-1d13-46bd-b5b1-b54dc0ca84d7"
      },
      "outputs": [
        {
          "name": "stdout",
          "output_type": "stream",
          "text": [
            "\n",
            "Calculated Sample Size (n) for 10% Confidence:\n",
            "   - 6494.0\n",
            "Better Sample Size (rounded up to the nearest 100): 6500.0\n",
            "\n",
            "Respective Tabulated Values:\n",
            " - Z-score for 10.0% Confidence: 1.645\n",
            " - Z-score for 5.0% Confidence: 1.96\n",
            " - Z-score for 1.0% Confidence: 2.576\n",
            "\n",
            "Conclusion:\n",
            "The calculated sample size is equal to or greater than the tabulated value for 10% Confidence Level.\n",
            "The statement is accepted.\n",
            "\n",
            "\n",
            "Calculated Sample Size (n) for 5% Confidence:\n",
            "   - 9219.0\n",
            "Better Sample Size (rounded up to the nearest 100): 9300.0\n",
            "\n",
            "Respective Tabulated Values:\n",
            " - Z-score for 10.0% Confidence: 1.645\n",
            " - Z-score for 5.0% Confidence: 1.96\n",
            " - Z-score for 1.0% Confidence: 2.576\n",
            "\n",
            "Conclusion:\n",
            "The calculated sample size is equal to or greater than the tabulated value for 5% Confidence Level.\n",
            "The statement is accepted.\n",
            "\n",
            "\n",
            "Calculated Sample Size (n) for 1% Confidence:\n",
            "   - 15925.0\n",
            "Better Sample Size (rounded up to the nearest 100): 16000.0\n",
            "\n",
            "Respective Tabulated Values:\n",
            " - Z-score for 10.0% Confidence: 1.645\n",
            " - Z-score for 5.0% Confidence: 1.96\n",
            " - Z-score for 1.0% Confidence: 2.576\n",
            "\n",
            "Conclusion:\n",
            "The calculated sample size is equal to or greater than the tabulated value for 1% Confidence Level.\n",
            "The statement is accepted.\n",
            "\n"
          ]
        }
      ],
      "source": [
        "import pandas as pd\n",
        "import numpy as np\n",
        "\n",
        "# Load the world data for 2023\n",
        "df = pd.read_csv(\"world-data-2023-1.csv\")\n",
        "\n",
        "def one_sample_size_estimate_proportion(z_tab, p, error):\n",
        "    n = (z_tab ** 2) * p * (1 - p) / (error ** 2)\n",
        "    return n, int(np.ceil(n / 100) * 100)\n",
        "\n",
        "# Extract the 'Life expectancy' column for analysis\n",
        "life_expectancy = df['Life expectancy']\n",
        "\n",
        "# Specify the parameters for the sample size calculation\n",
        "d = 0.01  # Margin of error\n",
        "p = 0.60  # Estimated proportion\n",
        "\n",
        "# Significance levels and corresponding z-values\n",
        "alpha_values = [0.10, 0.05, 0.01]\n",
        "z_tab_alpha = {0.10: 1.645, 0.05: 1.960, 0.01: 2.576}\n",
        "\n",
        "# Creating an empty list to store DataFrames\n",
        "results = []\n",
        "\n",
        "# Finding the sample size for various levels of significance\n",
        "for alpha in alpha_values:\n",
        "    # Calculate the sample size\n",
        "    n, rounded_n = one_sample_size_estimate_proportion(z_tab_alpha[alpha], p, d)\n",
        "    \n",
        "    # Append the results to the list\n",
        "    results.append({\n",
        "        'Alpha': alpha,\n",
        "        'Sample size': int(n),\n",
        "        'Better Sample size': rounded_n\n",
        "    })\n",
        "\n",
        "# Concatenate the DataFrames from the list\n",
        "summary = pd.concat([pd.DataFrame([result]) for result in results], ignore_index=True)\n",
        "\n",
        "# Print the calculated and tabulated values, along with the conclusion\n",
        "for index, row in summary.iterrows():\n",
        "    print(f\"\\nCalculated Sample Size (n) for {row['Alpha'] * 100:.0f}% Confidence:\")\n",
        "    print(f\"   - {row['Sample size']}\")\n",
        "    print(f\"Better Sample Size (rounded up to the nearest 100): {row['Better Sample size']}\\n\")\n",
        "    \n",
        "    print(\"Respective Tabulated Values:\")\n",
        "    for alpha, z_value in z_tab_alpha.items():\n",
        "        print(f\" - Z-score for {alpha * 100:.1f}% Confidence: {z_value}\")\n",
        "    \n",
        "    print(\"\\nConclusion:\")\n",
        "    if row['Sample size'] >= z_tab_alpha[row['Alpha']]:\n",
        "        print(f\"The calculated sample size is equal to or greater than the tabulated value for {row['Alpha'] * 100:.0f}% Confidence Level.\")\n",
        "        print(\"The statement is accepted.\\n\")\n",
        "    else:\n",
        "        print(f\"The calculated sample size is less than the tabulated value for {row['Alpha'] * 100:.0f}% Confidence Level.\")\n",
        "        print(\"Consider revisiting the assumptions or adjusting the desired accuracy of the estimate.\\n\")\n"
      ]
    },
    {
      "cell_type": "markdown",
      "metadata": {
        "id": "meDQmE8V28Lx"
      },
      "source": [
        "## 3.Two-sample proportions"
      ]
    },
    {
      "cell_type": "markdown",
      "metadata": {
        "id": "GO_L8Hn62-OD"
      },
      "source": [
        "- H0: P1 = P2\n",
        "- H1: P1 != P2\n",
        "\n",
        "N = n1 + n2 = 4*((Z(1-alpha/2) + Z(1-beta))^2) * ((p1+p2/2) ((2-p1-p2)/2)) / d^2\n",
        "\n",
        "where:\n",
        "\n",
        "- \\( N \\) is the total sample size,\n",
        "- \\( Z_{1-\\alpha/2} \\) is the Z-score corresponding to the desired level of significance (\\( \\alpha \\)),\n",
        "- \\( Z_{1-\\beta} \\) is the Z-score corresponding to the desired power (\\( \\beta \\)),\n",
        "- \\( p_1 \\) and \\( p_2 \\) are the proportions of success in the two samples,\n",
        "- \\( d \\) is the effect size."
      ]
    },
    {
      "cell_type": "code",
      "execution_count": 17,
      "metadata": {
        "colab": {
          "base_uri": "https://localhost:8080/"
        },
        "id": "Rav3r-znsiHM",
        "outputId": "3dd1a688-c342-4be8-f758-b5bc14c6868d"
      },
      "outputs": [
        {
          "name": "stdout",
          "output_type": "stream",
          "text": [
            "\n",
            "Required Sample Size per Group:\n",
            " - 302\n",
            "\n",
            "Respective Tabulated Value:\n",
            " - Z-score for 5.0% Confidence Level: 1.959963984540054\n",
            "\n",
            "Conclusion:\n",
            "The calculated sample size is equal to or greater than the tabulated value.\n",
            "The statement is accepted.\n"
          ]
        }
      ],
      "source": [
        "import pandas as pd\n",
        "import math\n",
        "\n",
        "# Given values\n",
        "alpha = 0.05  # Significance level\n",
        "beta = 0.10  # Power\n",
        "Z_alpha_over_2 = 1.96  # Z-score for alpha/2\n",
        "Z_beta = 1.282  # Z-score for beta\n",
        "\n",
        "# Extract Temperature values from the dataset\n",
        "temperature_group1 = df[df['Life expectancy'] < 60]['CPI']  # Assuming these are values for one group\n",
        "temperature_group2 = df[df['Life expectancy'] > 60]['CPI']  # Assuming these are values for another group\n",
        "\n",
        "# Calculate standard deviation under the null hypothesis\n",
        "average_temperature = (temperature_group1.mean() + temperature_group2.mean()) / 2\n",
        "variance = ((temperature_group1.std()**2 + temperature_group2.std()**2)) / 2\n",
        "sigma = math.sqrt(abs(average_temperature * (1 - average_temperature)))\n",
        "\n",
        "# Calculate the critical value for the difference in means\n",
        "critical_value = Z_alpha_over_2 + Z_beta\n",
        "\n",
        "# Calculate the required sample size for each group\n",
        "required_sample_size_per_group = 4 * ((critical_value**2) * variance) / ((temperature_group1.mean() - temperature_group2.mean())**2)\n",
        "\n",
        "# Round up to the nearest whole number\n",
        "required_sample_size_per_group = math.ceil(required_sample_size_per_group)\n",
        "\n",
        "# Tabulated Value\n",
        "tabulated_value = norm.ppf(1 - alpha / 2)\n",
        "\n",
        "# Output details\n",
        "print(\"\\nRequired Sample Size per Group:\")\n",
        "print(f\" - {required_sample_size_per_group}\")\n",
        "\n",
        "# Tabulated Value\n",
        "print(\"\\nRespective Tabulated Value:\")\n",
        "print(f\" - Z-score for {alpha * 100}% Confidence Level: {tabulated_value}\")\n",
        "\n",
        "# Conclusion\n",
        "if required_sample_size_per_group >= tabulated_value:\n",
        "    print(\"\\nConclusion:\")\n",
        "    print(\"The calculated sample size is equal to or greater than the tabulated value.\")\n",
        "    print(\"The statement is accepted.\")\n",
        "else:\n",
        "    print(\"\\nConclusion:\")\n",
        "    print(\"The calculated sample size is less than the tabulated value.\")\n",
        "    print(\"Consider revisiting the assumptions or adjusting the desired significance and power levels.\")\n"
      ]
    }
  ],
  "metadata": {
    "colab": {
      "provenance": []
    },
    "kernelspec": {
      "display_name": "Python 3",
      "name": "python3"
    },
    "language_info": {
      "codemirror_mode": {
        "name": "ipython",
        "version": 3
      },
      "file_extension": ".py",
      "mimetype": "text/x-python",
      "name": "python",
      "nbconvert_exporter": "python",
      "pygments_lexer": "ipython3",
      "version": "3.10.11"
    }
  },
  "nbformat": 4,
  "nbformat_minor": 0
}
